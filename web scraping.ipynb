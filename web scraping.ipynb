{
 "cells": [
  {
   "cell_type": "code",
   "execution_count": null,
   "id": "74ae49aa",
   "metadata": {},
   "outputs": [],
   "source": [
    "#!pip install selenium"
   ]
  },
  {
   "cell_type": "code",
   "execution_count": 8,
   "id": "183cab6e",
   "metadata": {},
   "outputs": [
    {
     "name": "stdout",
     "output_type": "stream",
     "text": [
      "Requirement already satisfied: beautifulsoup4 in c:\\users\\abhimanyu\\anaconda\\lib\\site-packages (4.11.1)\n",
      "Requirement already satisfied: soupsieve>1.2 in c:\\users\\abhimanyu\\anaconda\\lib\\site-packages (from beautifulsoup4) (2.3.1)\n",
      "Note: you may need to restart the kernel to use updated packages.\n"
     ]
    }
   ],
   "source": [
    "# pip install beautifulsoup4"
   ]
  },
  {
   "cell_type": "code",
   "execution_count": 1,
   "id": "7f9dbee9",
   "metadata": {},
   "outputs": [],
   "source": [
    "import os\n",
    "import selenium\n",
    "from selenium import webdriver\n",
    "import time\n",
    "from PIL import Image\n",
    "import io\n",
    "import requests\n",
    "import pandas as pd\n",
    "import time\n",
    "from bs4 import BeautifulSoup\n",
    "import re"
   ]
  },
  {
   "cell_type": "code",
   "execution_count": 2,
   "id": "68b5864f",
   "metadata": {},
   "outputs": [],
   "source": [
    "df=pd.read_excel(r'Input.xlsx')\n",
    "link_lst=df['URL'].unique()"
   ]
  },
  {
   "cell_type": "code",
   "execution_count": 3,
   "id": "157f7be7",
   "metadata": {},
   "outputs": [
    {
     "data": {
      "text/plain": [
       "114"
      ]
     },
     "execution_count": 3,
     "metadata": {},
     "output_type": "execute_result"
    }
   ],
   "source": [
    "len(link_lst)"
   ]
  },
  {
   "cell_type": "code",
   "execution_count": 4,
   "id": "7f7905f8",
   "metadata": {},
   "outputs": [],
   "source": [
    "url='https://insights.blackcoffer.com/ai-in-healthcare-to-improve-patient-outcomes/'"
   ]
  },
  {
   "cell_type": "code",
   "execution_count": 5,
   "id": "5ced15ab",
   "metadata": {},
   "outputs": [],
   "source": [
    "driver=webdriver.Chrome()\n",
    "driver.get(url)\n",
    "time.sleep(5)\n",
    "content=driver.page_source\n",
    "soup=BeautifulSoup(content,'html.parser')\n",
    "header=soup.find('div',class_='td-parallax-header')\n",
    "main_header=header.find('h1',class_='entry-title').text"
   ]
  },
  {
   "cell_type": "code",
   "execution_count": 6,
   "id": "b54db22c",
   "metadata": {},
   "outputs": [
    {
     "data": {
      "text/plain": [
       "'AI in healthcare to Improve Patient Outcomes'"
      ]
     },
     "execution_count": 6,
     "metadata": {},
     "output_type": "execute_result"
    }
   ],
   "source": [
    "main_header"
   ]
  },
  {
   "cell_type": "code",
   "execution_count": 16,
   "id": "1c1b045f",
   "metadata": {},
   "outputs": [],
   "source": [
    "# x=soup.find('div',class_='td-post-content').text"
   ]
  },
  {
   "cell_type": "markdown",
   "id": "2765d944",
   "metadata": {},
   "source": [
    "# \tData Extraction"
   ]
  },
  {
   "cell_type": "code",
   "execution_count": 4,
   "id": "417ad87f",
   "metadata": {},
   "outputs": [],
   "source": [
    "def data_link(link):\n",
    "    try:\n",
    "        driver=webdriver.Chrome()\n",
    "        driver.get(link)\n",
    "        time.sleep(30)\n",
    "        content=driver.page_source\n",
    "        soup=BeautifulSoup(content,'html.parser')\n",
    "        header=soup.find('div',class_='td-parallax-header')\n",
    "        main_header=header.find('h1',class_='entry-title').text\n",
    "        l1=[main_header]\n",
    "        all_data=soup.find('div',class_='td-post-content')\n",
    "        l2=[]\n",
    "        for i in all_data:\n",
    "            l2.append(i.text)\n",
    "        l3=[link]\n",
    "        text=\" \".join(str(x) for x in l2)\n",
    "        data_ext=pd.DataFrame({'Link_url':l3,'Header':l1,'Text':text})\n",
    "        driver.close()\n",
    "    except:\n",
    "        print('no url found')\n",
    "        l3=[link]\n",
    "        text=['url not found']\n",
    "        l1=['url not found']\n",
    "        data_ext=pd.DataFrame({'Link_url':l3,'Header':l1,'Text':text})\n",
    "    return data_ext\n",
    "    \n",
    "    \n",
    "    \n",
    "    "
   ]
  },
  {
   "cell_type": "code",
   "execution_count": 5,
   "id": "228a168f",
   "metadata": {},
   "outputs": [],
   "source": [
    "s_link=link_lst[:114]"
   ]
  },
  {
   "cell_type": "code",
   "execution_count": 6,
   "id": "4b23b892",
   "metadata": {},
   "outputs": [],
   "source": [
    "final_data=pd.DataFrame()"
   ]
  },
  {
   "cell_type": "code",
   "execution_count": 7,
   "id": "e48ed52e",
   "metadata": {},
   "outputs": [
    {
     "name": "stdout",
     "output_type": "stream",
     "text": [
      "                                            Link_url  \\\n",
      "0  https://insights.blackcoffer.com/ai-in-healthc...   \n",
      "\n",
      "                                         Header  \\\n",
      "0  AI in healthcare to Improve Patient Outcomes   \n",
      "\n",
      "                                                Text  \n",
      "0  \\n Introduction \\n “If anything kills over 10 ...  \n"
     ]
    },
    {
     "name": "stderr",
     "output_type": "stream",
     "text": [
      "C:\\Users\\Abhimanyu\\AppData\\Local\\Temp\\ipykernel_14116\\741335625.py:4: FutureWarning: The frame.append method is deprecated and will be removed from pandas in a future version. Use pandas.concat instead.\n",
      "  final_data=final_data.append(p1)\n"
     ]
    },
    {
     "name": "stdout",
     "output_type": "stream",
     "text": [
      "                                            Link_url  \\\n",
      "0  https://insights.blackcoffer.com/what-if-the-c...   \n",
      "\n",
      "                                             Header  \\\n",
      "0  What if the Creation is Taking Over the Creator?   \n",
      "\n",
      "                                                Text  \n",
      "0  \\n Human minds, a fascination in itself carryi...  \n"
     ]
    },
    {
     "name": "stderr",
     "output_type": "stream",
     "text": [
      "C:\\Users\\Abhimanyu\\AppData\\Local\\Temp\\ipykernel_14116\\741335625.py:4: FutureWarning: The frame.append method is deprecated and will be removed from pandas in a future version. Use pandas.concat instead.\n",
      "  final_data=final_data.append(p1)\n"
     ]
    },
    {
     "name": "stdout",
     "output_type": "stream",
     "text": [
      "                                            Link_url  \\\n",
      "0  https://insights.blackcoffer.com/what-jobs-wil...   \n",
      "\n",
      "                                              Header  \\\n",
      "0  What Jobs Will Robots Take From Humans in The ...   \n",
      "\n",
      "                                                Text  \n",
      "0  \\n Introduction \\n AI is rapidly evolving in t...  \n"
     ]
    },
    {
     "name": "stderr",
     "output_type": "stream",
     "text": [
      "C:\\Users\\Abhimanyu\\AppData\\Local\\Temp\\ipykernel_14116\\741335625.py:4: FutureWarning: The frame.append method is deprecated and will be removed from pandas in a future version. Use pandas.concat instead.\n",
      "  final_data=final_data.append(p1)\n"
     ]
    },
    {
     "name": "stdout",
     "output_type": "stream",
     "text": [
      "                                            Link_url  \\\n",
      "0  https://insights.blackcoffer.com/will-machine-...   \n",
      "\n",
      "                                              Header  \\\n",
      "0  Will Machine Replace The Human in the Future o...   \n",
      "\n",
      "                                                Text  \n",
      "0  \\n “Anything that could give rise to smarter-t...  \n"
     ]
    },
    {
     "name": "stderr",
     "output_type": "stream",
     "text": [
      "C:\\Users\\Abhimanyu\\AppData\\Local\\Temp\\ipykernel_14116\\741335625.py:4: FutureWarning: The frame.append method is deprecated and will be removed from pandas in a future version. Use pandas.concat instead.\n",
      "  final_data=final_data.append(p1)\n"
     ]
    },
    {
     "name": "stdout",
     "output_type": "stream",
     "text": [
      "                                            Link_url  \\\n",
      "0  https://insights.blackcoffer.com/will-ai-repla...   \n",
      "\n",
      "                                Header  \\\n",
      "0  Will AI Replace Us or Work With Us?   \n",
      "\n",
      "                                                Text  \n",
      "0  \\n “Machine intelligence is the last invention...  \n"
     ]
    },
    {
     "name": "stderr",
     "output_type": "stream",
     "text": [
      "C:\\Users\\Abhimanyu\\AppData\\Local\\Temp\\ipykernel_14116\\741335625.py:4: FutureWarning: The frame.append method is deprecated and will be removed from pandas in a future version. Use pandas.concat instead.\n",
      "  final_data=final_data.append(p1)\n"
     ]
    },
    {
     "name": "stdout",
     "output_type": "stream",
     "text": [
      "                                            Link_url  \\\n",
      "0  https://insights.blackcoffer.com/man-and-machi...   \n",
      "\n",
      "                                              Header  \\\n",
      "0  Will machine replace the human in the future o...   \n",
      "\n",
      "                                                Text  \n",
      "0  \\n Introduction \\n Where is this disruptive te...  \n"
     ]
    },
    {
     "name": "stderr",
     "output_type": "stream",
     "text": [
      "C:\\Users\\Abhimanyu\\AppData\\Local\\Temp\\ipykernel_14116\\741335625.py:4: FutureWarning: The frame.append method is deprecated and will be removed from pandas in a future version. Use pandas.concat instead.\n",
      "  final_data=final_data.append(p1)\n"
     ]
    },
    {
     "name": "stdout",
     "output_type": "stream",
     "text": [
      "                                            Link_url  \\\n",
      "0  https://insights.blackcoffer.com/in-future-or-...   \n",
      "\n",
      "                                              Header  \\\n",
      "0  How humans and machines are evolving to work t...   \n",
      "\n",
      "                                                Text  \n",
      "0  \\n In future or in upcoming years humans and m...  \n"
     ]
    },
    {
     "name": "stderr",
     "output_type": "stream",
     "text": [
      "C:\\Users\\Abhimanyu\\AppData\\Local\\Temp\\ipykernel_14116\\741335625.py:4: FutureWarning: The frame.append method is deprecated and will be removed from pandas in a future version. Use pandas.concat instead.\n",
      "  final_data=final_data.append(p1)\n"
     ]
    },
    {
     "name": "stdout",
     "output_type": "stream",
     "text": [
      "no url found\n",
      "                                            Link_url         Header  \\\n",
      "0  https://insights.blackcoffer.com/how-neural-ne...  url not found   \n",
      "\n",
      "            Text  \n",
      "0  url not found  \n"
     ]
    },
    {
     "name": "stderr",
     "output_type": "stream",
     "text": [
      "C:\\Users\\Abhimanyu\\AppData\\Local\\Temp\\ipykernel_14116\\741335625.py:4: FutureWarning: The frame.append method is deprecated and will be removed from pandas in a future version. Use pandas.concat instead.\n",
      "  final_data=final_data.append(p1)\n"
     ]
    },
    {
     "name": "stdout",
     "output_type": "stream",
     "text": [
      "                                            Link_url  \\\n",
      "0  https://insights.blackcoffer.com/how-machine-l...   \n",
      "\n",
      "                                            Header  \\\n",
      "0  How machine learning will affect your business?   \n",
      "\n",
      "                                                Text  \n",
      "0  \\n Machine learning techniques may have been u...  \n"
     ]
    },
    {
     "name": "stderr",
     "output_type": "stream",
     "text": [
      "C:\\Users\\Abhimanyu\\AppData\\Local\\Temp\\ipykernel_14116\\741335625.py:4: FutureWarning: The frame.append method is deprecated and will be removed from pandas in a future version. Use pandas.concat instead.\n",
      "  final_data=final_data.append(p1)\n"
     ]
    },
    {
     "name": "stdout",
     "output_type": "stream",
     "text": [
      "                                            Link_url  \\\n",
      "0  https://insights.blackcoffer.com/deep-learning...   \n",
      "\n",
      "                                         Header  \\\n",
      "0  Deep learning impact on areas of e-learning?   \n",
      "\n",
      "                                                Text  \n",
      "0  \\n eLearning as technology becomes more afford...  \n"
     ]
    },
    {
     "name": "stderr",
     "output_type": "stream",
     "text": [
      "C:\\Users\\Abhimanyu\\AppData\\Local\\Temp\\ipykernel_14116\\741335625.py:4: FutureWarning: The frame.append method is deprecated and will be removed from pandas in a future version. Use pandas.concat instead.\n",
      "  final_data=final_data.append(p1)\n"
     ]
    },
    {
     "name": "stdout",
     "output_type": "stream",
     "text": [
      "                                            Link_url  \\\n",
      "0  https://insights.blackcoffer.com/how-to-protec...   \n",
      "\n",
      "                                        Header  \\\n",
      "0  How to protect future data and its privacy?   \n",
      "\n",
      "                                                Text  \n",
      "0  \\n Before the internet, information was in som...  \n"
     ]
    },
    {
     "name": "stderr",
     "output_type": "stream",
     "text": [
      "C:\\Users\\Abhimanyu\\AppData\\Local\\Temp\\ipykernel_14116\\741335625.py:4: FutureWarning: The frame.append method is deprecated and will be removed from pandas in a future version. Use pandas.concat instead.\n",
      "  final_data=final_data.append(p1)\n"
     ]
    },
    {
     "name": "stdout",
     "output_type": "stream",
     "text": [
      "                                            Link_url  \\\n",
      "0  https://insights.blackcoffer.com/how-machines-...   \n",
      "\n",
      "                                              Header  \\\n",
      "0  How Machines, AI, Automations, and Robo-human ...   \n",
      "\n",
      "                                                Text  \n",
      "0  \\n We all hear day in and day out that we amid...  \n"
     ]
    },
    {
     "name": "stderr",
     "output_type": "stream",
     "text": [
      "C:\\Users\\Abhimanyu\\AppData\\Local\\Temp\\ipykernel_14116\\741335625.py:4: FutureWarning: The frame.append method is deprecated and will be removed from pandas in a future version. Use pandas.concat instead.\n",
      "  final_data=final_data.append(p1)\n"
     ]
    },
    {
     "name": "stdout",
     "output_type": "stream",
     "text": [
      "                                            Link_url  \\\n",
      "0  https://insights.blackcoffer.com/ai-human-robo...   \n",
      "\n",
      "                                   Header  \\\n",
      "0  How Robo Human will Impact the Future?   \n",
      "\n",
      "                                                Text  \n",
      "0  \\n It’s the year 2060. An automaton in a Resea...  \n"
     ]
    },
    {
     "name": "stderr",
     "output_type": "stream",
     "text": [
      "C:\\Users\\Abhimanyu\\AppData\\Local\\Temp\\ipykernel_14116\\741335625.py:4: FutureWarning: The frame.append method is deprecated and will be removed from pandas in a future version. Use pandas.concat instead.\n",
      "  final_data=final_data.append(p1)\n"
     ]
    },
    {
     "name": "stdout",
     "output_type": "stream",
     "text": [
      "                                            Link_url  \\\n",
      "0  https://insights.blackcoffer.com/how-ai-will-c...   \n",
      "\n",
      "                          Header  \\\n",
      "0  How AI will change the World?   \n",
      "\n",
      "                                                Text  \n",
      "0  \\n Abstract \\n The way work is being done now ...  \n"
     ]
    },
    {
     "name": "stderr",
     "output_type": "stream",
     "text": [
      "C:\\Users\\Abhimanyu\\AppData\\Local\\Temp\\ipykernel_14116\\741335625.py:4: FutureWarning: The frame.append method is deprecated and will be removed from pandas in a future version. Use pandas.concat instead.\n",
      "  final_data=final_data.append(p1)\n"
     ]
    },
    {
     "name": "stdout",
     "output_type": "stream",
     "text": [
      "                                            Link_url  \\\n",
      "0  https://insights.blackcoffer.com/future-of-wor...   \n",
      "\n",
      "                                             Header  \\\n",
      "0  Future of Work: How AI Has Entered the Workplace   \n",
      "\n",
      "                                                Text  \n",
      "0  \\n Abstract \\n Artificial intelligence and emp...  \n"
     ]
    },
    {
     "name": "stderr",
     "output_type": "stream",
     "text": [
      "C:\\Users\\Abhimanyu\\AppData\\Local\\Temp\\ipykernel_14116\\741335625.py:4: FutureWarning: The frame.append method is deprecated and will be removed from pandas in a future version. Use pandas.concat instead.\n",
      "  final_data=final_data.append(p1)\n"
     ]
    },
    {
     "name": "stdout",
     "output_type": "stream",
     "text": [
      "                                            Link_url  \\\n",
      "0  https://insights.blackcoffer.com/ai-tool-alexa...   \n",
      "\n",
      "                                              Header  \\\n",
      "0  How machine learning used in finance and banking?   \n",
      "\n",
      "                                                Text  \n",
      "0  \\n Through AI tools like natural language proc...  \n"
     ]
    },
    {
     "name": "stderr",
     "output_type": "stream",
     "text": [
      "C:\\Users\\Abhimanyu\\AppData\\Local\\Temp\\ipykernel_14116\\741335625.py:4: FutureWarning: The frame.append method is deprecated and will be removed from pandas in a future version. Use pandas.concat instead.\n",
      "  final_data=final_data.append(p1)\n"
     ]
    },
    {
     "name": "stdout",
     "output_type": "stream",
     "text": [
      "                                            Link_url  \\\n",
      "0  https://insights.blackcoffer.com/ai-healthcare...   \n",
      "\n",
      "                                   Header  \\\n",
      "0  How AI will impact the future of work?   \n",
      "\n",
      "                                                Text  \n",
      "0  \\n AI experts believe it’s going to be one of ...  \n"
     ]
    },
    {
     "name": "stderr",
     "output_type": "stream",
     "text": [
      "C:\\Users\\Abhimanyu\\AppData\\Local\\Temp\\ipykernel_14116\\741335625.py:4: FutureWarning: The frame.append method is deprecated and will be removed from pandas in a future version. Use pandas.concat instead.\n",
      "  final_data=final_data.append(p1)\n"
     ]
    },
    {
     "name": "stdout",
     "output_type": "stream",
     "text": [
      "                                            Link_url  \\\n",
      "0  https://insights.blackcoffer.com/all-you-need-...   \n",
      "\n",
      "                                        Header  \\\n",
      "0  All you need to know about online marketing   \n",
      "\n",
      "                                                Text  \n",
      "0  \\n   \\n   \\n  \\n Ever wondered how you get not...  \n"
     ]
    },
    {
     "name": "stderr",
     "output_type": "stream",
     "text": [
      "C:\\Users\\Abhimanyu\\AppData\\Local\\Temp\\ipykernel_14116\\741335625.py:4: FutureWarning: The frame.append method is deprecated and will be removed from pandas in a future version. Use pandas.concat instead.\n",
      "  final_data=final_data.append(p1)\n"
     ]
    },
    {
     "name": "stdout",
     "output_type": "stream",
     "text": [
      "                                            Link_url  \\\n",
      "0  https://insights.blackcoffer.com/evolution-of-...   \n",
      "\n",
      "                              Header  \\\n",
      "0  Evolution of Advertising Industry   \n",
      "\n",
      "                                                Text  \n",
      "0  \\n Evolution of Advertising Industry over the ...  \n"
     ]
    },
    {
     "name": "stderr",
     "output_type": "stream",
     "text": [
      "C:\\Users\\Abhimanyu\\AppData\\Local\\Temp\\ipykernel_14116\\741335625.py:4: FutureWarning: The frame.append method is deprecated and will be removed from pandas in a future version. Use pandas.concat instead.\n",
      "  final_data=final_data.append(p1)\n"
     ]
    },
    {
     "name": "stdout",
     "output_type": "stream",
     "text": [
      "                                            Link_url  \\\n",
      "0  https://insights.blackcoffer.com/how-data-anal...   \n",
      "\n",
      "                                              Header  \\\n",
      "0  How Data Analytics can help your business resp...   \n",
      "\n",
      "                                                Text  \n",
      "0  \\n Before we get into the whole discussion, le...  \n"
     ]
    },
    {
     "name": "stderr",
     "output_type": "stream",
     "text": [
      "C:\\Users\\Abhimanyu\\AppData\\Local\\Temp\\ipykernel_14116\\741335625.py:4: FutureWarning: The frame.append method is deprecated and will be removed from pandas in a future version. Use pandas.concat instead.\n",
      "  final_data=final_data.append(p1)\n"
     ]
    },
    {
     "name": "stdout",
     "output_type": "stream",
     "text": [
      "no url found\n",
      "                                            Link_url         Header  \\\n",
      "0  https://insights.blackcoffer.com/covid-19-envi...  url not found   \n",
      "\n",
      "            Text  \n",
      "0  url not found  \n"
     ]
    },
    {
     "name": "stderr",
     "output_type": "stream",
     "text": [
      "C:\\Users\\Abhimanyu\\AppData\\Local\\Temp\\ipykernel_14116\\741335625.py:4: FutureWarning: The frame.append method is deprecated and will be removed from pandas in a future version. Use pandas.concat instead.\n",
      "  final_data=final_data.append(p1)\n"
     ]
    },
    {
     "name": "stdout",
     "output_type": "stream",
     "text": [
      "                                            Link_url  \\\n",
      "0  https://insights.blackcoffer.com/environmental...   \n",
      "\n",
      "                                              Header  \\\n",
      "0  Environmental impact of the COVID-19 pandemic ...   \n",
      "\n",
      "                                                Text  \n",
      "0  \\n The Covid- 19 pandemics forced factories to...  \n"
     ]
    },
    {
     "name": "stderr",
     "output_type": "stream",
     "text": [
      "C:\\Users\\Abhimanyu\\AppData\\Local\\Temp\\ipykernel_14116\\741335625.py:4: FutureWarning: The frame.append method is deprecated and will be removed from pandas in a future version. Use pandas.concat instead.\n",
      "  final_data=final_data.append(p1)\n"
     ]
    },
    {
     "name": "stdout",
     "output_type": "stream",
     "text": [
      "                                            Link_url  \\\n",
      "0  https://insights.blackcoffer.com/how-data-anal...   \n",
      "\n",
      "                                              Header  \\\n",
      "0  How Data Analytics and AI are used to halt the...   \n",
      "\n",
      "                                                Text  \n",
      "0  \\n Even though COVID-19 has not yet halted and...  \n"
     ]
    },
    {
     "name": "stderr",
     "output_type": "stream",
     "text": [
      "C:\\Users\\Abhimanyu\\AppData\\Local\\Temp\\ipykernel_14116\\741335625.py:4: FutureWarning: The frame.append method is deprecated and will be removed from pandas in a future version. Use pandas.concat instead.\n",
      "  final_data=final_data.append(p1)\n"
     ]
    },
    {
     "name": "stdout",
     "output_type": "stream",
     "text": [
      "                                            Link_url  \\\n",
      "0  https://insights.blackcoffer.com/difference-be...   \n",
      "\n",
      "                                              Header  \\\n",
      "0  What is the difference between Artificial Inte...   \n",
      "\n",
      "                                                Text  \n",
      "0  \\n “Data is the new oil” has become the most i...  \n"
     ]
    },
    {
     "name": "stderr",
     "output_type": "stream",
     "text": [
      "C:\\Users\\Abhimanyu\\AppData\\Local\\Temp\\ipykernel_14116\\741335625.py:4: FutureWarning: The frame.append method is deprecated and will be removed from pandas in a future version. Use pandas.concat instead.\n",
      "  final_data=final_data.append(p1)\n"
     ]
    },
    {
     "name": "stdout",
     "output_type": "stream",
     "text": [
      "                                            Link_url  \\\n",
      "0  https://insights.blackcoffer.com/how-python-be...   \n",
      "\n",
      "                                              Header  \\\n",
      "0  How Python became the first choice for Data Sc...   \n",
      "\n",
      "                                                Text  \n",
      "0  \\n Data Science is gaining popularity exponent...  \n"
     ]
    },
    {
     "name": "stderr",
     "output_type": "stream",
     "text": [
      "C:\\Users\\Abhimanyu\\AppData\\Local\\Temp\\ipykernel_14116\\741335625.py:4: FutureWarning: The frame.append method is deprecated and will be removed from pandas in a future version. Use pandas.concat instead.\n",
      "  final_data=final_data.append(p1)\n"
     ]
    },
    {
     "name": "stdout",
     "output_type": "stream",
     "text": [
      "                                            Link_url  \\\n",
      "0  https://insights.blackcoffer.com/how-google-fi...   \n",
      "\n",
      "                                              Header  \\\n",
      "0  How Google fit measure heart and respiratory r...   \n",
      "\n",
      "                                                Text  \n",
      "0  \\n It was in March that Tech giant Google came...  \n"
     ]
    },
    {
     "name": "stderr",
     "output_type": "stream",
     "text": [
      "C:\\Users\\Abhimanyu\\AppData\\Local\\Temp\\ipykernel_14116\\741335625.py:4: FutureWarning: The frame.append method is deprecated and will be removed from pandas in a future version. Use pandas.concat instead.\n",
      "  final_data=final_data.append(p1)\n"
     ]
    },
    {
     "name": "stdout",
     "output_type": "stream",
     "text": [
      "                                            Link_url  \\\n",
      "0  https://insights.blackcoffer.com/what-is-the-f...   \n",
      "\n",
      "                               Header  \\\n",
      "0  What is the future of mobile apps?   \n",
      "\n",
      "                                                Text  \n",
      "0  \\n From what I have learned on the mobile apps...  \n"
     ]
    },
    {
     "name": "stderr",
     "output_type": "stream",
     "text": [
      "C:\\Users\\Abhimanyu\\AppData\\Local\\Temp\\ipykernel_14116\\741335625.py:4: FutureWarning: The frame.append method is deprecated and will be removed from pandas in a future version. Use pandas.concat instead.\n",
      "  final_data=final_data.append(p1)\n"
     ]
    },
    {
     "name": "stdout",
     "output_type": "stream",
     "text": [
      "                                            Link_url  \\\n",
      "0  https://insights.blackcoffer.com/impact-of-ai-...   \n",
      "\n",
      "                                Header  \\\n",
      "0  Impact of AI in health and medicine   \n",
      "\n",
      "                                                Text  \n",
      "0  \\n AI allows those in training to go through n...  \n"
     ]
    },
    {
     "name": "stderr",
     "output_type": "stream",
     "text": [
      "C:\\Users\\Abhimanyu\\AppData\\Local\\Temp\\ipykernel_14116\\741335625.py:4: FutureWarning: The frame.append method is deprecated and will be removed from pandas in a future version. Use pandas.concat instead.\n",
      "  final_data=final_data.append(p1)\n"
     ]
    },
    {
     "name": "stdout",
     "output_type": "stream",
     "text": [
      "                                            Link_url  \\\n",
      "0  https://insights.blackcoffer.com/telemedicine-...   \n",
      "\n",
      "                                              Header  \\\n",
      "0  What patients like and dislike about telemedic...   \n",
      "\n",
      "                                                Text  \n",
      "0  \\n In today’s world, telemedicine technology i...  \n"
     ]
    },
    {
     "name": "stderr",
     "output_type": "stream",
     "text": [
      "C:\\Users\\Abhimanyu\\AppData\\Local\\Temp\\ipykernel_14116\\741335625.py:4: FutureWarning: The frame.append method is deprecated and will be removed from pandas in a future version. Use pandas.concat instead.\n",
      "  final_data=final_data.append(p1)\n"
     ]
    },
    {
     "name": "stdout",
     "output_type": "stream",
     "text": [
      "                                            Link_url  \\\n",
      "0  https://insights.blackcoffer.com/how-we-foreca...   \n",
      "\n",
      "                                 Header  \\\n",
      "0  How we forecast future technologies?   \n",
      "\n",
      "                                                Text  \n",
      "0  \\n TECHNOLOGY is playing a dominant role in hu...  \n"
     ]
    },
    {
     "name": "stderr",
     "output_type": "stream",
     "text": [
      "C:\\Users\\Abhimanyu\\AppData\\Local\\Temp\\ipykernel_14116\\741335625.py:4: FutureWarning: The frame.append method is deprecated and will be removed from pandas in a future version. Use pandas.concat instead.\n",
      "  final_data=final_data.append(p1)\n"
     ]
    },
    {
     "name": "stdout",
     "output_type": "stream",
     "text": [
      "                                            Link_url  \\\n",
      "0  https://insights.blackcoffer.com/can-robots-ta...   \n",
      "\n",
      "                                    Header  \\\n",
      "0  Can robots tackle late-life loneliness?   \n",
      "\n",
      "                                                Text  \n",
      "0  \\n In this era, everyone is busy in his life. ...  \n"
     ]
    },
    {
     "name": "stderr",
     "output_type": "stream",
     "text": [
      "C:\\Users\\Abhimanyu\\AppData\\Local\\Temp\\ipykernel_14116\\741335625.py:4: FutureWarning: The frame.append method is deprecated and will be removed from pandas in a future version. Use pandas.concat instead.\n",
      "  final_data=final_data.append(p1)\n"
     ]
    },
    {
     "name": "stdout",
     "output_type": "stream",
     "text": [
      "                                            Link_url  \\\n",
      "0  https://insights.blackcoffer.com/embedding-car...   \n",
      "\n",
      "                                              Header  \\\n",
      "0  Embedding care robots into society and practic...   \n",
      "\n",
      "                                                Text  \n",
      "0  \\n Care Robots, as the name suggests, are robo...  \n"
     ]
    },
    {
     "name": "stderr",
     "output_type": "stream",
     "text": [
      "C:\\Users\\Abhimanyu\\AppData\\Local\\Temp\\ipykernel_14116\\741335625.py:4: FutureWarning: The frame.append method is deprecated and will be removed from pandas in a future version. Use pandas.concat instead.\n",
      "  final_data=final_data.append(p1)\n"
     ]
    },
    {
     "name": "stdout",
     "output_type": "stream",
     "text": [
      "                                            Link_url  \\\n",
      "0  https://insights.blackcoffer.com/management-ch...   \n",
      "\n",
      "                                              Header  \\\n",
      "0  Management challenges for future digitalizatio...   \n",
      "\n",
      "                                                Text  \n",
      "0  \\n Management acts as a guide to a group of pe...  \n"
     ]
    },
    {
     "name": "stderr",
     "output_type": "stream",
     "text": [
      "C:\\Users\\Abhimanyu\\AppData\\Local\\Temp\\ipykernel_14116\\741335625.py:4: FutureWarning: The frame.append method is deprecated and will be removed from pandas in a future version. Use pandas.concat instead.\n",
      "  final_data=final_data.append(p1)\n"
     ]
    },
    {
     "name": "stdout",
     "output_type": "stream",
     "text": [
      "                                            Link_url  \\\n",
      "0  https://insights.blackcoffer.com/are-we-any-cl...   \n",
      "\n",
      "                                              Header  \\\n",
      "0  Are we any closer to preventing a nuclear holo...   \n",
      "\n",
      "                                                Text  \n",
      "0  \\n One thought always comes to my mind…What if...  \n"
     ]
    },
    {
     "name": "stderr",
     "output_type": "stream",
     "text": [
      "C:\\Users\\Abhimanyu\\AppData\\Local\\Temp\\ipykernel_14116\\741335625.py:4: FutureWarning: The frame.append method is deprecated and will be removed from pandas in a future version. Use pandas.concat instead.\n",
      "  final_data=final_data.append(p1)\n"
     ]
    },
    {
     "name": "stdout",
     "output_type": "stream",
     "text": [
      "                                            Link_url  \\\n",
      "0  https://insights.blackcoffer.com/will-technolo...   \n",
      "\n",
      "                                              Header  \\\n",
      "0  Will technology eliminate the need for animal ...   \n",
      "\n",
      "                                                Text  \n",
      "0  \\n  \\n Imagine yourself as a being who can spe...  \n"
     ]
    },
    {
     "name": "stderr",
     "output_type": "stream",
     "text": [
      "C:\\Users\\Abhimanyu\\AppData\\Local\\Temp\\ipykernel_14116\\741335625.py:4: FutureWarning: The frame.append method is deprecated and will be removed from pandas in a future version. Use pandas.concat instead.\n",
      "  final_data=final_data.append(p1)\n"
     ]
    },
    {
     "name": "stdout",
     "output_type": "stream",
     "text": [
      "                                            Link_url  \\\n",
      "0  https://insights.blackcoffer.com/will-we-ever-...   \n",
      "\n",
      "                                              Header  \\\n",
      "0  Will we ever understand the nature of consciou...   \n",
      "\n",
      "                                                Text  \n",
      "0  \\n Introduction \\n The definition of conscious...  \n"
     ]
    },
    {
     "name": "stderr",
     "output_type": "stream",
     "text": [
      "C:\\Users\\Abhimanyu\\AppData\\Local\\Temp\\ipykernel_14116\\741335625.py:4: FutureWarning: The frame.append method is deprecated and will be removed from pandas in a future version. Use pandas.concat instead.\n",
      "  final_data=final_data.append(p1)\n"
     ]
    },
    {
     "name": "stdout",
     "output_type": "stream",
     "text": [
      "                                            Link_url  \\\n",
      "0  https://insights.blackcoffer.com/will-we-ever-...   \n",
      "\n",
      "                               Header  \\\n",
      "0  Will we ever colonize outer space?   \n",
      "\n",
      "                                                Text  \n",
      "0  \\n Nature has blessed humanity with earth, a r...  \n"
     ]
    },
    {
     "name": "stderr",
     "output_type": "stream",
     "text": [
      "C:\\Users\\Abhimanyu\\AppData\\Local\\Temp\\ipykernel_14116\\741335625.py:4: FutureWarning: The frame.append method is deprecated and will be removed from pandas in a future version. Use pandas.concat instead.\n",
      "  final_data=final_data.append(p1)\n"
     ]
    },
    {
     "name": "stdout",
     "output_type": "stream",
     "text": [
      "                                            Link_url  \\\n",
      "0  https://insights.blackcoffer.com/what-is-the-c...   \n",
      "\n",
      "                                              Header  \\\n",
      "0  What is the chance Homo sapiens will survive f...   \n",
      "\n",
      "                                                Text  \n",
      "0  \\n We’ve really done it this year. Like an ins...  \n"
     ]
    },
    {
     "name": "stderr",
     "output_type": "stream",
     "text": [
      "C:\\Users\\Abhimanyu\\AppData\\Local\\Temp\\ipykernel_14116\\741335625.py:4: FutureWarning: The frame.append method is deprecated and will be removed from pandas in a future version. Use pandas.concat instead.\n",
      "  final_data=final_data.append(p1)\n"
     ]
    },
    {
     "name": "stdout",
     "output_type": "stream",
     "text": [
      "                                            Link_url  \\\n",
      "0  https://insights.blackcoffer.com/why-does-your...   \n",
      "\n",
      "                                   Header  \\\n",
      "0  Why does your business need a chatbot?   \n",
      "\n",
      "                                                Text  \n",
      "0  \\n Mr. Sakamoto is a bonsai artist, lives down...  \n"
     ]
    },
    {
     "name": "stderr",
     "output_type": "stream",
     "text": [
      "C:\\Users\\Abhimanyu\\AppData\\Local\\Temp\\ipykernel_14116\\741335625.py:4: FutureWarning: The frame.append method is deprecated and will be removed from pandas in a future version. Use pandas.concat instead.\n",
      "  final_data=final_data.append(p1)\n"
     ]
    },
    {
     "name": "stdout",
     "output_type": "stream",
     "text": [
      "                                            Link_url  \\\n",
      "0  https://insights.blackcoffer.com/how-you-lead-...   \n",
      "\n",
      "                                              Header  \\\n",
      "0  How you lead a project or a team without any t...   \n",
      "\n",
      "                                                Text  \n",
      "0  \\n Have you ever wondered what’s common betwee...  \n"
     ]
    },
    {
     "name": "stderr",
     "output_type": "stream",
     "text": [
      "C:\\Users\\Abhimanyu\\AppData\\Local\\Temp\\ipykernel_14116\\741335625.py:4: FutureWarning: The frame.append method is deprecated and will be removed from pandas in a future version. Use pandas.concat instead.\n",
      "  final_data=final_data.append(p1)\n"
     ]
    },
    {
     "name": "stdout",
     "output_type": "stream",
     "text": [
      "                                            Link_url  \\\n",
      "0  https://insights.blackcoffer.com/can-you-be-gr...   \n",
      "\n",
      "                                              Header  \\\n",
      "0  Can You Be Great Leader Without Technical Expe...   \n",
      "\n",
      "                                                Text  \n",
      "0  \\n The word “leadership” can bring to mind a v...  \n"
     ]
    },
    {
     "name": "stderr",
     "output_type": "stream",
     "text": [
      "C:\\Users\\Abhimanyu\\AppData\\Local\\Temp\\ipykernel_14116\\741335625.py:4: FutureWarning: The frame.append method is deprecated and will be removed from pandas in a future version. Use pandas.concat instead.\n",
      "  final_data=final_data.append(p1)\n"
     ]
    },
    {
     "name": "stdout",
     "output_type": "stream",
     "text": [
      "                                            Link_url  \\\n",
      "0  https://insights.blackcoffer.com/how-does-arti...   \n",
      "\n",
      "                                              Header  \\\n",
      "0  How does artificial intelligence affect the en...   \n",
      "\n",
      "                                                Text  \n",
      "0  \\n When we talk about AI, different people hav...  \n"
     ]
    },
    {
     "name": "stderr",
     "output_type": "stream",
     "text": [
      "C:\\Users\\Abhimanyu\\AppData\\Local\\Temp\\ipykernel_14116\\741335625.py:4: FutureWarning: The frame.append method is deprecated and will be removed from pandas in a future version. Use pandas.concat instead.\n",
      "  final_data=final_data.append(p1)\n"
     ]
    },
    {
     "name": "stdout",
     "output_type": "stream",
     "text": [
      "                                            Link_url  \\\n",
      "0  https://insights.blackcoffer.com/how-to-overco...   \n",
      "\n",
      "                                         Header  \\\n",
      "0  How to Overcome Your Fear of Making Mistakes   \n",
      "\n",
      "                                                Text  \n",
      "0  \\n No one can reduce mistakes to zero, but you...  \n"
     ]
    },
    {
     "name": "stderr",
     "output_type": "stream",
     "text": [
      "C:\\Users\\Abhimanyu\\AppData\\Local\\Temp\\ipykernel_14116\\741335625.py:4: FutureWarning: The frame.append method is deprecated and will be removed from pandas in a future version. Use pandas.concat instead.\n",
      "  final_data=final_data.append(p1)\n"
     ]
    },
    {
     "name": "stdout",
     "output_type": "stream",
     "text": [
      "                                            Link_url  \\\n",
      "0  https://insights.blackcoffer.com/is-perfection...   \n",
      "\n",
      "                                              Header  \\\n",
      "0  Is Perfection the Greatest enemy of Productivity?   \n",
      "\n",
      "                                                Text  \n",
      "0  \\n What’s perfection really? Does every person...  \n"
     ]
    },
    {
     "name": "stderr",
     "output_type": "stream",
     "text": [
      "C:\\Users\\Abhimanyu\\AppData\\Local\\Temp\\ipykernel_14116\\741335625.py:4: FutureWarning: The frame.append method is deprecated and will be removed from pandas in a future version. Use pandas.concat instead.\n",
      "  final_data=final_data.append(p1)\n"
     ]
    },
    {
     "name": "stdout",
     "output_type": "stream",
     "text": [
      "                                            Link_url  \\\n",
      "0  https://insights.blackcoffer.com/global-financ...   \n",
      "\n",
      "                                              Header  \\\n",
      "0  Global financial crisis 2008 causes/effects an...   \n",
      "\n",
      "                                                Text  \n",
      "0  \\n Brief  \\n The Financial Crisis of 2008 star...  \n"
     ]
    },
    {
     "name": "stderr",
     "output_type": "stream",
     "text": [
      "C:\\Users\\Abhimanyu\\AppData\\Local\\Temp\\ipykernel_14116\\741335625.py:4: FutureWarning: The frame.append method is deprecated and will be removed from pandas in a future version. Use pandas.concat instead.\n",
      "  final_data=final_data.append(p1)\n"
     ]
    },
    {
     "name": "stdout",
     "output_type": "stream",
     "text": [
      "                                            Link_url  \\\n",
      "0  https://insights.blackcoffer.com/gender-divers...   \n",
      "\n",
      "                                              Header  \\\n",
      "0  Gender diversity and Equality in the tech indu...   \n",
      "\n",
      "                                                Text  \n",
      "0  \\n Gender diversity is an equal representation...  \n"
     ]
    },
    {
     "name": "stderr",
     "output_type": "stream",
     "text": [
      "C:\\Users\\Abhimanyu\\AppData\\Local\\Temp\\ipykernel_14116\\741335625.py:4: FutureWarning: The frame.append method is deprecated and will be removed from pandas in a future version. Use pandas.concat instead.\n",
      "  final_data=final_data.append(p1)\n"
     ]
    },
    {
     "name": "stdout",
     "output_type": "stream",
     "text": [
      "                                            Link_url  \\\n",
      "0  https://insights.blackcoffer.com/how-to-overco...   \n",
      "\n",
      "                                          Header  \\\n",
      "0  How to overcome your fear of making mistakes?   \n",
      "\n",
      "                                                Text  \n",
      "0  \\n The Covid-19 crisis and its fallout includi...  \n"
     ]
    },
    {
     "name": "stderr",
     "output_type": "stream",
     "text": [
      "C:\\Users\\Abhimanyu\\AppData\\Local\\Temp\\ipykernel_14116\\741335625.py:4: FutureWarning: The frame.append method is deprecated and will be removed from pandas in a future version. Use pandas.concat instead.\n",
      "  final_data=final_data.append(p1)\n"
     ]
    },
    {
     "name": "stdout",
     "output_type": "stream",
     "text": [
      "                                            Link_url  \\\n",
      "0  https://insights.blackcoffer.com/how-small-bus...   \n",
      "\n",
      "                                              Header  \\\n",
      "0  How Small Business can survive the Coronavirus...   \n",
      "\n",
      "                                                Text  \n",
      "0  \\n The word pandemic may be the most used word...  \n"
     ]
    },
    {
     "name": "stderr",
     "output_type": "stream",
     "text": [
      "C:\\Users\\Abhimanyu\\AppData\\Local\\Temp\\ipykernel_14116\\741335625.py:4: FutureWarning: The frame.append method is deprecated and will be removed from pandas in a future version. Use pandas.concat instead.\n",
      "  final_data=final_data.append(p1)\n"
     ]
    },
    {
     "name": "stdout",
     "output_type": "stream",
     "text": [
      "                                            Link_url  \\\n",
      "0  https://insights.blackcoffer.com/impacts-of-co...   \n",
      "\n",
      "                                 Header  \\\n",
      "0  Impacts of COVID 19 on Food products   \n",
      "\n",
      "                                                Text  \n",
      "0  \\n Some vendors (fruit and vegetable sellers) ...  \n"
     ]
    },
    {
     "name": "stderr",
     "output_type": "stream",
     "text": [
      "C:\\Users\\Abhimanyu\\AppData\\Local\\Temp\\ipykernel_14116\\741335625.py:4: FutureWarning: The frame.append method is deprecated and will be removed from pandas in a future version. Use pandas.concat instead.\n",
      "  final_data=final_data.append(p1)\n"
     ]
    },
    {
     "name": "stdout",
     "output_type": "stream",
     "text": [
      "                                            Link_url  \\\n",
      "0  https://insights.blackcoffer.com/impacts-of-co...   \n",
      "\n",
      "                                     Header  \\\n",
      "0  Impacts of COVID 19 on Vegetable Vendors   \n",
      "\n",
      "                                                Text  \n",
      "0  \\n The COVID-19 pandemic has grown into one of...  \n"
     ]
    },
    {
     "name": "stderr",
     "output_type": "stream",
     "text": [
      "C:\\Users\\Abhimanyu\\AppData\\Local\\Temp\\ipykernel_14116\\741335625.py:4: FutureWarning: The frame.append method is deprecated and will be removed from pandas in a future version. Use pandas.concat instead.\n",
      "  final_data=final_data.append(p1)\n"
     ]
    },
    {
     "name": "stdout",
     "output_type": "stream",
     "text": [
      "                                            Link_url  \\\n",
      "0  https://insights.blackcoffer.com/impact-of-cov...   \n",
      "\n",
      "                                              Header  \\\n",
      "0  Impact of COVID-19 pandemic on Tourism & Aviat...   \n",
      "\n",
      "                                                Text  \n",
      "0  \\n As the Coronavirus pandemic unfolds, most i...  \n"
     ]
    },
    {
     "name": "stderr",
     "output_type": "stream",
     "text": [
      "C:\\Users\\Abhimanyu\\AppData\\Local\\Temp\\ipykernel_14116\\741335625.py:4: FutureWarning: The frame.append method is deprecated and will be removed from pandas in a future version. Use pandas.concat instead.\n",
      "  final_data=final_data.append(p1)\n"
     ]
    },
    {
     "name": "stdout",
     "output_type": "stream",
     "text": [
      "                                            Link_url  \\\n",
      "0  https://insights.blackcoffer.com/impact-of-cov...   \n",
      "\n",
      "                                              Header  \\\n",
      "0  Impact of COVID-19 pandemic on sports events a...   \n",
      "\n",
      "                                                Text  \n",
      "0  \\n The COVID-19 pandemic has caused the most s...  \n"
     ]
    },
    {
     "name": "stderr",
     "output_type": "stream",
     "text": [
      "C:\\Users\\Abhimanyu\\AppData\\Local\\Temp\\ipykernel_14116\\741335625.py:4: FutureWarning: The frame.append method is deprecated and will be removed from pandas in a future version. Use pandas.concat instead.\n",
      "  final_data=final_data.append(p1)\n"
     ]
    },
    {
     "name": "stdout",
     "output_type": "stream",
     "text": [
      "                                            Link_url  \\\n",
      "0  https://insights.blackcoffer.com/changing-land...   \n",
      "\n",
      "                                              Header  \\\n",
      "0  Changing landscape and emerging trends in the ...   \n",
      "\n",
      "                                                Text  \n",
      "0  \\n The COVID 19 pandemic has reshaped the fund...  \n"
     ]
    },
    {
     "name": "stderr",
     "output_type": "stream",
     "text": [
      "C:\\Users\\Abhimanyu\\AppData\\Local\\Temp\\ipykernel_14116\\741335625.py:4: FutureWarning: The frame.append method is deprecated and will be removed from pandas in a future version. Use pandas.concat instead.\n",
      "  final_data=final_data.append(p1)\n"
     ]
    },
    {
     "name": "stdout",
     "output_type": "stream",
     "text": [
      "                                            Link_url  \\\n",
      "0  https://insights.blackcoffer.com/online-gaming...   \n",
      "\n",
      "                                              Header  \\\n",
      "0  Online gaming: Adolescent online gaming effect...   \n",
      "\n",
      "                                                Text  \n",
      "0  \\n Introduction  \\n A video game is any softwa...  \n"
     ]
    },
    {
     "name": "stderr",
     "output_type": "stream",
     "text": [
      "C:\\Users\\Abhimanyu\\AppData\\Local\\Temp\\ipykernel_14116\\741335625.py:4: FutureWarning: The frame.append method is deprecated and will be removed from pandas in a future version. Use pandas.concat instead.\n",
      "  final_data=final_data.append(p1)\n"
     ]
    },
    {
     "name": "stdout",
     "output_type": "stream",
     "text": [
      "                                            Link_url                Header  \\\n",
      "0  https://insights.blackcoffer.com/human-rights-...  Human Rights Outlook   \n",
      "\n",
      "                                                Text  \n",
      "0  \\n Climate change, technological advances, and...  \n"
     ]
    },
    {
     "name": "stderr",
     "output_type": "stream",
     "text": [
      "C:\\Users\\Abhimanyu\\AppData\\Local\\Temp\\ipykernel_14116\\741335625.py:4: FutureWarning: The frame.append method is deprecated and will be removed from pandas in a future version. Use pandas.concat instead.\n",
      "  final_data=final_data.append(p1)\n"
     ]
    },
    {
     "name": "stdout",
     "output_type": "stream",
     "text": [
      "                                            Link_url  \\\n",
      "0  https://insights.blackcoffer.com/how-voice-sea...   \n",
      "\n",
      "                                              Header  \\\n",
      "0  How Voice search makes your business a success...   \n",
      "\n",
      "                                                Text  \n",
      "0  \\n Finding ways to make using the Internet eas...  \n"
     ]
    },
    {
     "name": "stderr",
     "output_type": "stream",
     "text": [
      "C:\\Users\\Abhimanyu\\AppData\\Local\\Temp\\ipykernel_14116\\741335625.py:4: FutureWarning: The frame.append method is deprecated and will be removed from pandas in a future version. Use pandas.concat instead.\n",
      "  final_data=final_data.append(p1)\n"
     ]
    },
    {
     "name": "stdout",
     "output_type": "stream",
     "text": [
      "                                            Link_url  \\\n",
      "0  https://insights.blackcoffer.com/how-the-covid...   \n",
      "\n",
      "                                              Header  \\\n",
      "0  How the COVID-19 crisis is redefining jobs and...   \n",
      "\n",
      "                                                Text  \n",
      "0  \\n The pandemic has shaken the world in the wa...  \n"
     ]
    },
    {
     "name": "stderr",
     "output_type": "stream",
     "text": [
      "C:\\Users\\Abhimanyu\\AppData\\Local\\Temp\\ipykernel_14116\\741335625.py:4: FutureWarning: The frame.append method is deprecated and will be removed from pandas in a future version. Use pandas.concat instead.\n",
      "  final_data=final_data.append(p1)\n"
     ]
    },
    {
     "name": "stdout",
     "output_type": "stream",
     "text": [
      "                                            Link_url  \\\n",
      "0  https://insights.blackcoffer.com/how-to-increa...   \n",
      "\n",
      "                                              Header  \\\n",
      "0  How to increase social media engagement for ma...   \n",
      "\n",
      "                                                Text  \n",
      "0  \\n Social media is such a staple of our evolvi...  \n"
     ]
    },
    {
     "name": "stderr",
     "output_type": "stream",
     "text": [
      "C:\\Users\\Abhimanyu\\AppData\\Local\\Temp\\ipykernel_14116\\741335625.py:4: FutureWarning: The frame.append method is deprecated and will be removed from pandas in a future version. Use pandas.concat instead.\n",
      "  final_data=final_data.append(p1)\n"
     ]
    },
    {
     "name": "stdout",
     "output_type": "stream",
     "text": [
      "                                            Link_url  \\\n",
      "0  https://insights.blackcoffer.com/impacts-of-co...   \n",
      "\n",
      "                                             Header  \\\n",
      "0  Impacts of COVID 19 on Streets Sides Food Stalls   \n",
      "\n",
      "                                                Text  \n",
      "0  \\n Petty Entrepreneurs like Streetside Food St...  \n"
     ]
    },
    {
     "name": "stderr",
     "output_type": "stream",
     "text": [
      "C:\\Users\\Abhimanyu\\AppData\\Local\\Temp\\ipykernel_14116\\741335625.py:4: FutureWarning: The frame.append method is deprecated and will be removed from pandas in a future version. Use pandas.concat instead.\n",
      "  final_data=final_data.append(p1)\n"
     ]
    },
    {
     "name": "stdout",
     "output_type": "stream",
     "text": [
      "                                            Link_url  \\\n",
      "0  https://insights.blackcoffer.com/coronavirus-i...   \n",
      "\n",
      "                                 Header  \\\n",
      "0  Coronavirus impact on energy markets   \n",
      "\n",
      "                                                Text  \n",
      "0  \\n The coronavirus, also known as COVID-19, is...  \n"
     ]
    },
    {
     "name": "stderr",
     "output_type": "stream",
     "text": [
      "C:\\Users\\Abhimanyu\\AppData\\Local\\Temp\\ipykernel_14116\\741335625.py:4: FutureWarning: The frame.append method is deprecated and will be removed from pandas in a future version. Use pandas.concat instead.\n",
      "  final_data=final_data.append(p1)\n"
     ]
    },
    {
     "name": "stdout",
     "output_type": "stream",
     "text": [
      "                                            Link_url  \\\n",
      "0  https://insights.blackcoffer.com/coronavirus-i...   \n",
      "\n",
      "                                    Header  \\\n",
      "0  COVID-19 Impact on Hospitality Industry   \n",
      "\n",
      "                                                Text  \n",
      "0  \\n In December 2019, a novel coronavirus strai...  \n"
     ]
    },
    {
     "name": "stderr",
     "output_type": "stream",
     "text": [
      "C:\\Users\\Abhimanyu\\AppData\\Local\\Temp\\ipykernel_14116\\741335625.py:4: FutureWarning: The frame.append method is deprecated and will be removed from pandas in a future version. Use pandas.concat instead.\n",
      "  final_data=final_data.append(p1)\n"
     ]
    },
    {
     "name": "stdout",
     "output_type": "stream",
     "text": [
      "                                            Link_url  \\\n",
      "0  https://insights.blackcoffer.com/lessons-from-...   \n",
      "\n",
      "                                              Header  \\\n",
      "0  Lessons from the past: Some key learnings rele...   \n",
      "\n",
      "                                                Text  \n",
      "0  \\n As a race, we are not ready for any kind of...  \n"
     ]
    },
    {
     "name": "stderr",
     "output_type": "stream",
     "text": [
      "C:\\Users\\Abhimanyu\\AppData\\Local\\Temp\\ipykernel_14116\\741335625.py:4: FutureWarning: The frame.append method is deprecated and will be removed from pandas in a future version. Use pandas.concat instead.\n",
      "  final_data=final_data.append(p1)\n"
     ]
    },
    {
     "name": "stdout",
     "output_type": "stream",
     "text": [
      "                                            Link_url  \\\n",
      "0  https://insights.blackcoffer.com/estimating-th...   \n",
      "\n",
      "                                              Header  \\\n",
      "0  Estimating the impact of COVID-19 on the world...   \n",
      "\n",
      "                                                Text  \n",
      "0  \\n COVID-19 an unprecedented pandemic for us b...  \n"
     ]
    },
    {
     "name": "stderr",
     "output_type": "stream",
     "text": [
      "C:\\Users\\Abhimanyu\\AppData\\Local\\Temp\\ipykernel_14116\\741335625.py:4: FutureWarning: The frame.append method is deprecated and will be removed from pandas in a future version. Use pandas.concat instead.\n",
      "  final_data=final_data.append(p1)\n"
     ]
    },
    {
     "name": "stdout",
     "output_type": "stream",
     "text": [
      "                                            Link_url  \\\n",
      "0  https://insights.blackcoffer.com/estimating-th...   \n",
      "\n",
      "                                              Header  \\\n",
      "0  Estimating the impact of COVID-19 on the world...   \n",
      "\n",
      "                                                Text  \n",
      "0  \\n  \\n  \\n  \\n Will COVID19 END Globalization?...  \n"
     ]
    },
    {
     "name": "stderr",
     "output_type": "stream",
     "text": [
      "C:\\Users\\Abhimanyu\\AppData\\Local\\Temp\\ipykernel_14116\\741335625.py:4: FutureWarning: The frame.append method is deprecated and will be removed from pandas in a future version. Use pandas.concat instead.\n",
      "  final_data=final_data.append(p1)\n"
     ]
    },
    {
     "name": "stdout",
     "output_type": "stream",
     "text": [
      "                                            Link_url  \\\n",
      "0  https://insights.blackcoffer.com/travel-and-to...   \n",
      "\n",
      "                       Header  \\\n",
      "0  Travel and Tourism Outlook   \n",
      "\n",
      "                                                Text  \n",
      "0  \\n The UN projects a 20-30% decline in interna...  \n"
     ]
    },
    {
     "name": "stderr",
     "output_type": "stream",
     "text": [
      "C:\\Users\\Abhimanyu\\AppData\\Local\\Temp\\ipykernel_14116\\741335625.py:4: FutureWarning: The frame.append method is deprecated and will be removed from pandas in a future version. Use pandas.concat instead.\n",
      "  final_data=final_data.append(p1)\n"
     ]
    },
    {
     "name": "stdout",
     "output_type": "stream",
     "text": [
      "                                            Link_url  \\\n",
      "0  https://insights.blackcoffer.com/gaming-disord...   \n",
      "\n",
      "                                             Header  \\\n",
      "0  Gaming Disorder and Effects of Gaming on Health.   \n",
      "\n",
      "                                                Text  \n",
      "0  \\n Perhaps the virtual illusion has become tod...  \n"
     ]
    },
    {
     "name": "stderr",
     "output_type": "stream",
     "text": [
      "C:\\Users\\Abhimanyu\\AppData\\Local\\Temp\\ipykernel_14116\\741335625.py:4: FutureWarning: The frame.append method is deprecated and will be removed from pandas in a future version. Use pandas.concat instead.\n",
      "  final_data=final_data.append(p1)\n"
     ]
    },
    {
     "name": "stdout",
     "output_type": "stream",
     "text": [
      "                                            Link_url  \\\n",
      "0  https://insights.blackcoffer.com/what-is-the-r...   \n",
      "\n",
      "                                              Header  \\\n",
      "0  What is the repercussion of the environment du...   \n",
      "\n",
      "                                                Text  \n",
      "0  \\n What is COVID 19 pandemic? \\n On 31st Decem...  \n"
     ]
    },
    {
     "name": "stderr",
     "output_type": "stream",
     "text": [
      "C:\\Users\\Abhimanyu\\AppData\\Local\\Temp\\ipykernel_14116\\741335625.py:4: FutureWarning: The frame.append method is deprecated and will be removed from pandas in a future version. Use pandas.concat instead.\n",
      "  final_data=final_data.append(p1)\n"
     ]
    },
    {
     "name": "stdout",
     "output_type": "stream",
     "text": [
      "                                            Link_url  \\\n",
      "0  https://insights.blackcoffer.com/what-is-the-r...   \n",
      "\n",
      "                                              Header  \\\n",
      "0  Due to the COVID-19 the repercussion of the en...   \n",
      "\n",
      "                                                Text  \n",
      "0  \\n Epidemics, in general, have both direct and...  \n"
     ]
    },
    {
     "name": "stderr",
     "output_type": "stream",
     "text": [
      "C:\\Users\\Abhimanyu\\AppData\\Local\\Temp\\ipykernel_14116\\741335625.py:4: FutureWarning: The frame.append method is deprecated and will be removed from pandas in a future version. Use pandas.concat instead.\n",
      "  final_data=final_data.append(p1)\n"
     ]
    },
    {
     "name": "stdout",
     "output_type": "stream",
     "text": [
      "                                            Link_url  \\\n",
      "0  https://insights.blackcoffer.com/impact-of-cov...   \n",
      "\n",
      "                                              Header  \\\n",
      "0  Impact of COVID-19 pandemic on office space an...   \n",
      "\n",
      "                                                Text  \n",
      "0  \\n COVID 19 has bought the world to its knees....  \n"
     ]
    },
    {
     "name": "stderr",
     "output_type": "stream",
     "text": [
      "C:\\Users\\Abhimanyu\\AppData\\Local\\Temp\\ipykernel_14116\\741335625.py:4: FutureWarning: The frame.append method is deprecated and will be removed from pandas in a future version. Use pandas.concat instead.\n",
      "  final_data=final_data.append(p1)\n"
     ]
    },
    {
     "name": "stdout",
     "output_type": "stream",
     "text": [
      "                                            Link_url  \\\n",
      "0  https://insights.blackcoffer.com/contribution-...   \n",
      "\n",
      "                                              Header  \\\n",
      "0  Contribution of handicrafts (Visual Arts & Lit...   \n",
      "\n",
      "                                                Text  \n",
      "0  \\n Handicrafts is an art of making crafts by h...  \n"
     ]
    },
    {
     "name": "stderr",
     "output_type": "stream",
     "text": [
      "C:\\Users\\Abhimanyu\\AppData\\Local\\Temp\\ipykernel_14116\\741335625.py:4: FutureWarning: The frame.append method is deprecated and will be removed from pandas in a future version. Use pandas.concat instead.\n",
      "  final_data=final_data.append(p1)\n"
     ]
    },
    {
     "name": "stdout",
     "output_type": "stream",
     "text": [
      "                                            Link_url  \\\n",
      "0  https://insights.blackcoffer.com/how-covid-19-...   \n",
      "\n",
      "                                           Header  \\\n",
      "0  How COVID-19 is impacting payment preferences?   \n",
      "\n",
      "                                                Text  \n",
      "0  \\n I would rather pay cash – Before COVID-19. ...  \n"
     ]
    },
    {
     "name": "stderr",
     "output_type": "stream",
     "text": [
      "C:\\Users\\Abhimanyu\\AppData\\Local\\Temp\\ipykernel_14116\\741335625.py:4: FutureWarning: The frame.append method is deprecated and will be removed from pandas in a future version. Use pandas.concat instead.\n",
      "  final_data=final_data.append(p1)\n"
     ]
    },
    {
     "name": "stdout",
     "output_type": "stream",
     "text": [
      "                                            Link_url  \\\n",
      "0  https://insights.blackcoffer.com/how-will-covi...   \n",
      "\n",
      "                                        Header  \\\n",
      "0  How will COVID-19 affect the world of work?   \n",
      "\n",
      "                                                Text  \n",
      "0  \\n As business close to help prevent transmiss...  \n"
     ]
    },
    {
     "name": "stderr",
     "output_type": "stream",
     "text": [
      "C:\\Users\\Abhimanyu\\AppData\\Local\\Temp\\ipykernel_14116\\741335625.py:4: FutureWarning: The frame.append method is deprecated and will be removed from pandas in a future version. Use pandas.concat instead.\n",
      "  final_data=final_data.append(p1)\n"
     ]
    },
    {
     "name": "stdout",
     "output_type": "stream",
     "text": [
      "                                            Link_url  \\\n",
      "0  https://insights.blackcoffer.com/lessons-from-...   \n",
      "\n",
      "                                              Header  \\\n",
      "0  Lessons from the past: Some key learnings rele...   \n",
      "\n",
      "                                                Text  \n",
      "0  \\n So, not beginning with once upon a time bec...  \n"
     ]
    },
    {
     "name": "stderr",
     "output_type": "stream",
     "text": [
      "C:\\Users\\Abhimanyu\\AppData\\Local\\Temp\\ipykernel_14116\\741335625.py:4: FutureWarning: The frame.append method is deprecated and will be removed from pandas in a future version. Use pandas.concat instead.\n",
      "  final_data=final_data.append(p1)\n"
     ]
    },
    {
     "name": "stdout",
     "output_type": "stream",
     "text": [
      "                                            Link_url  \\\n",
      "0  https://insights.blackcoffer.com/covid-19-how-...   \n",
      "\n",
      "                                          Header  \\\n",
      "0  COVID-19: How have countries been responding?   \n",
      "\n",
      "                                                Text  \n",
      "0  \\n The COVID-19 pandemic is impacting communit...  \n"
     ]
    },
    {
     "name": "stderr",
     "output_type": "stream",
     "text": [
      "C:\\Users\\Abhimanyu\\AppData\\Local\\Temp\\ipykernel_14116\\741335625.py:4: FutureWarning: The frame.append method is deprecated and will be removed from pandas in a future version. Use pandas.concat instead.\n",
      "  final_data=final_data.append(p1)\n"
     ]
    },
    {
     "name": "stdout",
     "output_type": "stream",
     "text": [
      "                                            Link_url  \\\n",
      "0  https://insights.blackcoffer.com/coronavirus-i...   \n",
      "\n",
      "                                              Header  \\\n",
      "0  How Coronavirus Impact on the Hospitality Indu...   \n",
      "\n",
      "                                                Text  \n",
      "0  \\n While Coronavirus has affected the life of ...  \n"
     ]
    },
    {
     "name": "stderr",
     "output_type": "stream",
     "text": [
      "C:\\Users\\Abhimanyu\\AppData\\Local\\Temp\\ipykernel_14116\\741335625.py:4: FutureWarning: The frame.append method is deprecated and will be removed from pandas in a future version. Use pandas.concat instead.\n",
      "  final_data=final_data.append(p1)\n"
     ]
    },
    {
     "name": "stdout",
     "output_type": "stream",
     "text": [
      "                                            Link_url  \\\n",
      "0  https://insights.blackcoffer.com/how-will-covi...   \n",
      "\n",
      "                                        Header  \\\n",
      "0  How will COVID-19 affect the world of work?   \n",
      "\n",
      "                                                Text  \n",
      "0  \\n A respiratory illness that started from pat...  \n"
     ]
    },
    {
     "name": "stderr",
     "output_type": "stream",
     "text": [
      "C:\\Users\\Abhimanyu\\AppData\\Local\\Temp\\ipykernel_14116\\741335625.py:4: FutureWarning: The frame.append method is deprecated and will be removed from pandas in a future version. Use pandas.concat instead.\n",
      "  final_data=final_data.append(p1)\n"
     ]
    },
    {
     "name": "stdout",
     "output_type": "stream",
     "text": [
      "                                            Link_url  \\\n",
      "0  https://insights.blackcoffer.com/coronavirus-i...   \n",
      "\n",
      "                                            Header  \\\n",
      "0  Coronavirus: Effect on the Hospitality Industry   \n",
      "\n",
      "                                                Text  \n",
      "0  \\n The hospitality sector in India has witness...  \n"
     ]
    },
    {
     "name": "stderr",
     "output_type": "stream",
     "text": [
      "C:\\Users\\Abhimanyu\\AppData\\Local\\Temp\\ipykernel_14116\\741335625.py:4: FutureWarning: The frame.append method is deprecated and will be removed from pandas in a future version. Use pandas.concat instead.\n",
      "  final_data=final_data.append(p1)\n"
     ]
    },
    {
     "name": "stdout",
     "output_type": "stream",
     "text": [
      "                                            Link_url  \\\n",
      "0  https://insights.blackcoffer.com/estimating-th...   \n",
      "\n",
      "                                              Header  \\\n",
      "0  Estimating the impact of COVID-19 on the world...   \n",
      "\n",
      "                                                Text  \n",
      "0  \\n “Stay at Home”, “Crisis”, “Pandemic”, “COVI...  \n"
     ]
    },
    {
     "name": "stderr",
     "output_type": "stream",
     "text": [
      "C:\\Users\\Abhimanyu\\AppData\\Local\\Temp\\ipykernel_14116\\741335625.py:4: FutureWarning: The frame.append method is deprecated and will be removed from pandas in a future version. Use pandas.concat instead.\n",
      "  final_data=final_data.append(p1)\n"
     ]
    },
    {
     "name": "stdout",
     "output_type": "stream",
     "text": [
      "                                            Link_url  \\\n",
      "0  https://insights.blackcoffer.com/covid-19-how-...   \n",
      "\n",
      "                                          Header  \\\n",
      "0  COVID-19: How have countries been responding?   \n",
      "\n",
      "                                                Text  \n",
      "0  \\n “If anything kills over 10 million people o...  \n"
     ]
    },
    {
     "name": "stderr",
     "output_type": "stream",
     "text": [
      "C:\\Users\\Abhimanyu\\AppData\\Local\\Temp\\ipykernel_14116\\741335625.py:4: FutureWarning: The frame.append method is deprecated and will be removed from pandas in a future version. Use pandas.concat instead.\n",
      "  final_data=final_data.append(p1)\n"
     ]
    },
    {
     "name": "stdout",
     "output_type": "stream",
     "text": [
      "                                            Link_url  \\\n",
      "0  https://insights.blackcoffer.com/how-will-covi...   \n",
      "\n",
      "                                        Header  \\\n",
      "0  How will COVID-19 affect the world of work?   \n",
      "\n",
      "                                                Text  \n",
      "0  \\n COVID19 affects the world from every way li...  \n"
     ]
    },
    {
     "name": "stderr",
     "output_type": "stream",
     "text": [
      "C:\\Users\\Abhimanyu\\AppData\\Local\\Temp\\ipykernel_14116\\741335625.py:4: FutureWarning: The frame.append method is deprecated and will be removed from pandas in a future version. Use pandas.concat instead.\n",
      "  final_data=final_data.append(p1)\n"
     ]
    },
    {
     "name": "stdout",
     "output_type": "stream",
     "text": [
      "                                            Link_url  \\\n",
      "0  https://insights.blackcoffer.com/lessons-from-...   \n",
      "\n",
      "                                              Header  \\\n",
      "0  Lessons from the past: Some key learnings rele...   \n",
      "\n",
      "                                                Text  \n",
      "0  \\n “The more you know about the past, the bett...  \n"
     ]
    },
    {
     "name": "stderr",
     "output_type": "stream",
     "text": [
      "C:\\Users\\Abhimanyu\\AppData\\Local\\Temp\\ipykernel_14116\\741335625.py:4: FutureWarning: The frame.append method is deprecated and will be removed from pandas in a future version. Use pandas.concat instead.\n",
      "  final_data=final_data.append(p1)\n"
     ]
    },
    {
     "name": "stdout",
     "output_type": "stream",
     "text": [
      "                                            Link_url  \\\n",
      "0  https://insights.blackcoffer.com/lessons-from-...   \n",
      "\n",
      "                                              Header  \\\n",
      "0  Lessons from the past: Some key learnings rele...   \n",
      "\n",
      "                                                Text  \n",
      "0  \\n The current topic that is burning the world...  \n"
     ]
    },
    {
     "name": "stderr",
     "output_type": "stream",
     "text": [
      "C:\\Users\\Abhimanyu\\AppData\\Local\\Temp\\ipykernel_14116\\741335625.py:4: FutureWarning: The frame.append method is deprecated and will be removed from pandas in a future version. Use pandas.concat instead.\n",
      "  final_data=final_data.append(p1)\n"
     ]
    },
    {
     "name": "stdout",
     "output_type": "stream",
     "text": [
      "                                            Link_url  \\\n",
      "0  https://insights.blackcoffer.com/coronavirus-i...   \n",
      "\n",
      "                                            Header  \\\n",
      "0  Coronavirus: Impact on the Hospitality Industry   \n",
      "\n",
      "                                                Text  \n",
      "0  \\n Coronavirus, now globally carrying the stat...  \n"
     ]
    },
    {
     "name": "stderr",
     "output_type": "stream",
     "text": [
      "C:\\Users\\Abhimanyu\\AppData\\Local\\Temp\\ipykernel_14116\\741335625.py:4: FutureWarning: The frame.append method is deprecated and will be removed from pandas in a future version. Use pandas.concat instead.\n",
      "  final_data=final_data.append(p1)\n"
     ]
    },
    {
     "name": "stdout",
     "output_type": "stream",
     "text": [
      "                                            Link_url  \\\n",
      "0  https://insights.blackcoffer.com/why-scams-lik...   \n",
      "\n",
      "                                              Header  \\\n",
      "0  Why scams like Nirav Modi Happen with Indian b...   \n",
      "\n",
      "                                                Text  \n",
      "0  \\n India has been beset by financial scams sin...  \n"
     ]
    },
    {
     "name": "stderr",
     "output_type": "stream",
     "text": [
      "C:\\Users\\Abhimanyu\\AppData\\Local\\Temp\\ipykernel_14116\\741335625.py:4: FutureWarning: The frame.append method is deprecated and will be removed from pandas in a future version. Use pandas.concat instead.\n",
      "  final_data=final_data.append(p1)\n"
     ]
    },
    {
     "name": "stdout",
     "output_type": "stream",
     "text": [
      "                                            Link_url  \\\n",
      "0  https://insights.blackcoffer.com/impact-of-cov...   \n",
      "\n",
      "                                     Header  \\\n",
      "0  IMPACT OF COVID-19 ON THE GLOBAL ECONOMY   \n",
      "\n",
      "                                                Text  \n",
      "0  \\n It was 14th March and I was\\naltogether pre...  \n"
     ]
    },
    {
     "name": "stderr",
     "output_type": "stream",
     "text": [
      "C:\\Users\\Abhimanyu\\AppData\\Local\\Temp\\ipykernel_14116\\741335625.py:4: FutureWarning: The frame.append method is deprecated and will be removed from pandas in a future version. Use pandas.concat instead.\n",
      "  final_data=final_data.append(p1)\n"
     ]
    },
    {
     "name": "stdout",
     "output_type": "stream",
     "text": [
      "                                            Link_url  \\\n",
      "0  https://insights.blackcoffer.com/impact-of-cov...   \n",
      "\n",
      "                                        Header  \\\n",
      "0  Impact of coronavirus on the Indian economy   \n",
      "\n",
      "                                                Text  \n",
      "0  \\n Nathan Wolfe Impact once said “There\\nare c...  \n"
     ]
    },
    {
     "name": "stderr",
     "output_type": "stream",
     "text": [
      "C:\\Users\\Abhimanyu\\AppData\\Local\\Temp\\ipykernel_14116\\741335625.py:4: FutureWarning: The frame.append method is deprecated and will be removed from pandas in a future version. Use pandas.concat instead.\n",
      "  final_data=final_data.append(p1)\n"
     ]
    },
    {
     "name": "stdout",
     "output_type": "stream",
     "text": [
      "                                            Link_url  \\\n",
      "0  https://insights.blackcoffer.com/impact-of-cov...   \n",
      "\n",
      "                                   Header  \\\n",
      "0  Global Economy effected by Coronavirus   \n",
      "\n",
      "                                                Text  \n",
      "0  \\n INTRODUCTION \\n Coronavirus disease  (COVID...  \n"
     ]
    },
    {
     "name": "stderr",
     "output_type": "stream",
     "text": [
      "C:\\Users\\Abhimanyu\\AppData\\Local\\Temp\\ipykernel_14116\\741335625.py:4: FutureWarning: The frame.append method is deprecated and will be removed from pandas in a future version. Use pandas.concat instead.\n",
      "  final_data=final_data.append(p1)\n"
     ]
    },
    {
     "name": "stdout",
     "output_type": "stream",
     "text": [
      "                                            Link_url  \\\n",
      "0  https://insights.blackcoffer.com/impact-of-cov...   \n",
      "\n",
      "                                              Header  \\\n",
      "0  Impact of COVID-19 (Coronavirus) on the Indian...   \n",
      "\n",
      "                                                Text  \n",
      "0  \\n From the economic point of\\nview, India is ...  \n"
     ]
    },
    {
     "name": "stderr",
     "output_type": "stream",
     "text": [
      "C:\\Users\\Abhimanyu\\AppData\\Local\\Temp\\ipykernel_14116\\741335625.py:4: FutureWarning: The frame.append method is deprecated and will be removed from pandas in a future version. Use pandas.concat instead.\n",
      "  final_data=final_data.append(p1)\n"
     ]
    },
    {
     "name": "stdout",
     "output_type": "stream",
     "text": [
      "                                            Link_url  \\\n",
      "0  https://insights.blackcoffer.com/should-celebr...   \n",
      "\n",
      "                                            Header  \\\n",
      "0  Should celebrities be allowed to join politics?   \n",
      "\n",
      "                                                Text  \n",
      "0  \\n In today’s day and age of hyper-connectivit...  \n"
     ]
    },
    {
     "name": "stderr",
     "output_type": "stream",
     "text": [
      "C:\\Users\\Abhimanyu\\AppData\\Local\\Temp\\ipykernel_14116\\741335625.py:4: FutureWarning: The frame.append method is deprecated and will be removed from pandas in a future version. Use pandas.concat instead.\n",
      "  final_data=final_data.append(p1)\n"
     ]
    },
    {
     "name": "stdout",
     "output_type": "stream",
     "text": [
      "                                            Link_url  \\\n",
      "0  https://insights.blackcoffer.com/how-prepared-...   \n",
      "\n",
      "                                              Header  \\\n",
      "0  How prepared is India to tackle a possible COV...   \n",
      "\n",
      "                                                Text  \n",
      "0  \\n Frankly, no! The state of the public health...  \n"
     ]
    },
    {
     "name": "stderr",
     "output_type": "stream",
     "text": [
      "C:\\Users\\Abhimanyu\\AppData\\Local\\Temp\\ipykernel_14116\\741335625.py:4: FutureWarning: The frame.append method is deprecated and will be removed from pandas in a future version. Use pandas.concat instead.\n",
      "  final_data=final_data.append(p1)\n"
     ]
    },
    {
     "name": "stdout",
     "output_type": "stream",
     "text": [
      "                                            Link_url  \\\n",
      "0  https://insights.blackcoffer.com/how-will-covi...   \n",
      "\n",
      "                                        Header  \\\n",
      "0  How will COVID-19 affect the world of work?   \n",
      "\n",
      "                                                Text  \n",
      "0  \\n Every prophet of doom, unless he also happe...  \n"
     ]
    },
    {
     "name": "stderr",
     "output_type": "stream",
     "text": [
      "C:\\Users\\Abhimanyu\\AppData\\Local\\Temp\\ipykernel_14116\\741335625.py:4: FutureWarning: The frame.append method is deprecated and will be removed from pandas in a future version. Use pandas.concat instead.\n",
      "  final_data=final_data.append(p1)\n"
     ]
    },
    {
     "name": "stdout",
     "output_type": "stream",
     "text": [
      "                                            Link_url  \\\n",
      "0  https://insights.blackcoffer.com/controversy-a...   \n",
      "\n",
      "                                Header  \\\n",
      "0  Controversy as a Marketing Strategy   \n",
      "\n",
      "                                                Text  \n",
      "0  \\n Organizations burn a lot of resources to bu...  \n"
     ]
    },
    {
     "name": "stderr",
     "output_type": "stream",
     "text": [
      "C:\\Users\\Abhimanyu\\AppData\\Local\\Temp\\ipykernel_14116\\741335625.py:4: FutureWarning: The frame.append method is deprecated and will be removed from pandas in a future version. Use pandas.concat instead.\n",
      "  final_data=final_data.append(p1)\n"
     ]
    },
    {
     "name": "stdout",
     "output_type": "stream",
     "text": [
      "                                            Link_url  \\\n",
      "0  https://insights.blackcoffer.com/coronavirus-i...   \n",
      "\n",
      "                                            Header  \\\n",
      "0  Coronavirus: Impact on the Hospitality Industry   \n",
      "\n",
      "                                                Text  \n",
      "0  \\n Before jumping on the topic I would like to...  \n"
     ]
    },
    {
     "name": "stderr",
     "output_type": "stream",
     "text": [
      "C:\\Users\\Abhimanyu\\AppData\\Local\\Temp\\ipykernel_14116\\741335625.py:4: FutureWarning: The frame.append method is deprecated and will be removed from pandas in a future version. Use pandas.concat instead.\n",
      "  final_data=final_data.append(p1)\n"
     ]
    },
    {
     "name": "stdout",
     "output_type": "stream",
     "text": [
      "                                            Link_url  \\\n",
      "0  https://insights.blackcoffer.com/coronavirus-i...   \n",
      "\n",
      "                                 Header  \\\n",
      "0  Coronavirus impact on energy markets   \n",
      "\n",
      "                                                Text  \n",
      "0  \\n As the coronavirus spreads around the world...  \n"
     ]
    },
    {
     "name": "stderr",
     "output_type": "stream",
     "text": [
      "C:\\Users\\Abhimanyu\\AppData\\Local\\Temp\\ipykernel_14116\\741335625.py:4: FutureWarning: The frame.append method is deprecated and will be removed from pandas in a future version. Use pandas.concat instead.\n",
      "  final_data=final_data.append(p1)\n"
     ]
    },
    {
     "name": "stdout",
     "output_type": "stream",
     "text": [
      "                                            Link_url  \\\n",
      "0  https://insights.blackcoffer.com/what-are-the-...   \n",
      "\n",
      "                                              Header  \\\n",
      "0  What are the key policies that will mitigate t...   \n",
      "\n",
      "                                                Text  \n",
      "0  \\n From Alibaba to Ping An and Google to Ford,...  \n"
     ]
    },
    {
     "name": "stderr",
     "output_type": "stream",
     "text": [
      "C:\\Users\\Abhimanyu\\AppData\\Local\\Temp\\ipykernel_14116\\741335625.py:4: FutureWarning: The frame.append method is deprecated and will be removed from pandas in a future version. Use pandas.concat instead.\n",
      "  final_data=final_data.append(p1)\n"
     ]
    },
    {
     "name": "stdout",
     "output_type": "stream",
     "text": [
      "                                            Link_url  \\\n",
      "0  https://insights.blackcoffer.com/marketing-dri...   \n",
      "\n",
      "                                              Header  \\\n",
      "0  Marketing Drives Results With A Focus On Problems   \n",
      "\n",
      "                                                Text  \n",
      "0  \\n When\\nthe British ruled India, many Indians...  \n"
     ]
    },
    {
     "name": "stderr",
     "output_type": "stream",
     "text": [
      "C:\\Users\\Abhimanyu\\AppData\\Local\\Temp\\ipykernel_14116\\741335625.py:4: FutureWarning: The frame.append method is deprecated and will be removed from pandas in a future version. Use pandas.concat instead.\n",
      "  final_data=final_data.append(p1)\n"
     ]
    },
    {
     "name": "stdout",
     "output_type": "stream",
     "text": [
      "                                            Link_url  \\\n",
      "0  https://insights.blackcoffer.com/continued-dem...   \n",
      "\n",
      "                                Header  \\\n",
      "0  Continued Demand for Sustainability   \n",
      "\n",
      "                                                Text  \n",
      "0  \\n The business of business is no longer to do...  \n"
     ]
    },
    {
     "name": "stderr",
     "output_type": "stream",
     "text": [
      "C:\\Users\\Abhimanyu\\AppData\\Local\\Temp\\ipykernel_14116\\741335625.py:4: FutureWarning: The frame.append method is deprecated and will be removed from pandas in a future version. Use pandas.concat instead.\n",
      "  final_data=final_data.append(p1)\n"
     ]
    },
    {
     "name": "stdout",
     "output_type": "stream",
     "text": [
      "                                            Link_url  \\\n",
      "0  https://insights.blackcoffer.com/coronavirus-d...   \n",
      "\n",
      "                                              Header  \\\n",
      "0  Coronavirus Disease (COVID-19) Effect: The Imp...   \n",
      "\n",
      "                                                Text  \n",
      "0  \\n The outbreak of coronavirus disease 2019 (C...  \n"
     ]
    },
    {
     "name": "stderr",
     "output_type": "stream",
     "text": [
      "C:\\Users\\Abhimanyu\\AppData\\Local\\Temp\\ipykernel_14116\\741335625.py:4: FutureWarning: The frame.append method is deprecated and will be removed from pandas in a future version. Use pandas.concat instead.\n",
      "  final_data=final_data.append(p1)\n"
     ]
    },
    {
     "name": "stdout",
     "output_type": "stream",
     "text": [
      "                                            Link_url  \\\n",
      "0  https://insights.blackcoffer.com/should-people...   \n",
      "\n",
      "                                              Header  \\\n",
      "0  Should people wear fabric gloves? Seeking evid...   \n",
      "\n",
      "                                                Text  \n",
      "0  \\n Is there any evidence about whether fabric ...  \n"
     ]
    },
    {
     "name": "stderr",
     "output_type": "stream",
     "text": [
      "C:\\Users\\Abhimanyu\\AppData\\Local\\Temp\\ipykernel_14116\\741335625.py:4: FutureWarning: The frame.append method is deprecated and will be removed from pandas in a future version. Use pandas.concat instead.\n",
      "  final_data=final_data.append(p1)\n"
     ]
    },
    {
     "name": "stdout",
     "output_type": "stream",
     "text": [
      "                                            Link_url  \\\n",
      "0  https://insights.blackcoffer.com/why-is-there-...   \n",
      "\n",
      "                                              Header  \\\n",
      "0  Why is there a severe immunological and inflam...   \n",
      "\n",
      "                                                Text  \n",
      "0  \\n Why is there a severe immunological and inf...  \n"
     ]
    },
    {
     "name": "stderr",
     "output_type": "stream",
     "text": [
      "C:\\Users\\Abhimanyu\\AppData\\Local\\Temp\\ipykernel_14116\\741335625.py:4: FutureWarning: The frame.append method is deprecated and will be removed from pandas in a future version. Use pandas.concat instead.\n",
      "  final_data=final_data.append(p1)\n"
     ]
    },
    {
     "name": "stdout",
     "output_type": "stream",
     "text": [
      "                                            Link_url  \\\n",
      "0  https://insights.blackcoffer.com/what-do-you-t...   \n",
      "\n",
      "                                              Header  \\\n",
      "0  What do you think is the lesson (or lessons) t...   \n",
      "\n",
      "                                                Text  \n",
      "0  \\n What we can learn, is to have frequent upda...  \n"
     ]
    },
    {
     "name": "stderr",
     "output_type": "stream",
     "text": [
      "C:\\Users\\Abhimanyu\\AppData\\Local\\Temp\\ipykernel_14116\\741335625.py:4: FutureWarning: The frame.append method is deprecated and will be removed from pandas in a future version. Use pandas.concat instead.\n",
      "  final_data=final_data.append(p1)\n"
     ]
    },
    {
     "name": "stdout",
     "output_type": "stream",
     "text": [
      "                                            Link_url  \\\n",
      "0  https://insights.blackcoffer.com/coronavirus-t...   \n",
      "\n",
      "                                              Header  \\\n",
      "0  Coronavirus, the unexpected challenge for the ...   \n",
      "\n",
      "                                                Text  \n",
      "0  \\n Since the creation of the EU, we have been ...  \n"
     ]
    },
    {
     "name": "stderr",
     "output_type": "stream",
     "text": [
      "C:\\Users\\Abhimanyu\\AppData\\Local\\Temp\\ipykernel_14116\\741335625.py:4: FutureWarning: The frame.append method is deprecated and will be removed from pandas in a future version. Use pandas.concat instead.\n",
      "  final_data=final_data.append(p1)\n"
     ]
    },
    {
     "name": "stdout",
     "output_type": "stream",
     "text": [
      "                                            Link_url  \\\n",
      "0  https://insights.blackcoffer.com/industrial-re...   \n",
      "\n",
      "                                      Header  \\\n",
      "0  INDUSTRIAL REVOLUTION 4.0 – PROS AND CONS   \n",
      "\n",
      "                                                Text  \n",
      "0  \\n Before jumping to the pros and cons of indu...  \n"
     ]
    },
    {
     "name": "stderr",
     "output_type": "stream",
     "text": [
      "C:\\Users\\Abhimanyu\\AppData\\Local\\Temp\\ipykernel_14116\\741335625.py:4: FutureWarning: The frame.append method is deprecated and will be removed from pandas in a future version. Use pandas.concat instead.\n",
      "  final_data=final_data.append(p1)\n"
     ]
    },
    {
     "name": "stdout",
     "output_type": "stream",
     "text": [
      "                                            Link_url  \\\n",
      "0  https://insights.blackcoffer.com/impact-of-cov...   \n",
      "\n",
      "                       Header  \\\n",
      "0  COVID-19 Vs Indian Economy   \n",
      "\n",
      "                                                Text  \n",
      "0  \\n India is on the verge of an unprecedented e...  \n"
     ]
    },
    {
     "name": "stderr",
     "output_type": "stream",
     "text": [
      "C:\\Users\\Abhimanyu\\AppData\\Local\\Temp\\ipykernel_14116\\741335625.py:4: FutureWarning: The frame.append method is deprecated and will be removed from pandas in a future version. Use pandas.concat instead.\n",
      "  final_data=final_data.append(p1)\n"
     ]
    },
    {
     "name": "stdout",
     "output_type": "stream",
     "text": [
      "                                            Link_url  \\\n",
      "0  https://insights.blackcoffer.com/impact-of-cov...   \n",
      "\n",
      "                                              Header  \\\n",
      "0  Impact of COVID-19 (Coronavirus) on the Indian...   \n",
      "\n",
      "                                                Text  \n",
      "0  \\n The\\ncorona outbreak has hit us hard. With ...  \n"
     ]
    },
    {
     "name": "stderr",
     "output_type": "stream",
     "text": [
      "C:\\Users\\Abhimanyu\\AppData\\Local\\Temp\\ipykernel_14116\\741335625.py:4: FutureWarning: The frame.append method is deprecated and will be removed from pandas in a future version. Use pandas.concat instead.\n",
      "  final_data=final_data.append(p1)\n"
     ]
    },
    {
     "name": "stdout",
     "output_type": "stream",
     "text": [
      "                                            Link_url  \\\n",
      "0  https://insights.blackcoffer.com/impact-of-cov...   \n",
      "\n",
      "                                     Header  \\\n",
      "0  Impact of Indian Economy due to COVID-19   \n",
      "\n",
      "                                                Text  \n",
      "0  \\n COVID-19: INTRODUCTION \\n The Novel Coronav...  \n"
     ]
    },
    {
     "name": "stderr",
     "output_type": "stream",
     "text": [
      "C:\\Users\\Abhimanyu\\AppData\\Local\\Temp\\ipykernel_14116\\741335625.py:4: FutureWarning: The frame.append method is deprecated and will be removed from pandas in a future version. Use pandas.concat instead.\n",
      "  final_data=final_data.append(p1)\n"
     ]
    },
    {
     "name": "stdout",
     "output_type": "stream",
     "text": [
      "                                            Link_url  \\\n",
      "0  https://insights.blackcoffer.com/impact-of-cov...   \n",
      "\n",
      "                                              Header  \\\n",
      "0  Impact of newly discovered coronavirus on the ...   \n",
      "\n",
      "                                                Text  \n",
      "0  \\n What is Coronavirus? Is it a disease? How i...  \n"
     ]
    },
    {
     "name": "stderr",
     "output_type": "stream",
     "text": [
      "C:\\Users\\Abhimanyu\\AppData\\Local\\Temp\\ipykernel_14116\\741335625.py:4: FutureWarning: The frame.append method is deprecated and will be removed from pandas in a future version. Use pandas.concat instead.\n",
      "  final_data=final_data.append(p1)\n"
     ]
    },
    {
     "name": "stdout",
     "output_type": "stream",
     "text": [
      "no url found\n",
      "                                            Link_url         Header  \\\n",
      "0  https://insights.blackcoffer.com/ensuring-grow...  url not found   \n",
      "\n",
      "            Text  \n",
      "0  url not found  \n"
     ]
    },
    {
     "name": "stderr",
     "output_type": "stream",
     "text": [
      "C:\\Users\\Abhimanyu\\AppData\\Local\\Temp\\ipykernel_14116\\741335625.py:4: FutureWarning: The frame.append method is deprecated and will be removed from pandas in a future version. Use pandas.concat instead.\n",
      "  final_data=final_data.append(p1)\n"
     ]
    },
    {
     "name": "stdout",
     "output_type": "stream",
     "text": [
      "                                            Link_url                 Header  \\\n",
      "0  https://insights.blackcoffer.com/blockchain-in...  Blockchain in Fintech   \n",
      "\n",
      "                                                Text  \n",
      "0  \\n Disruption in Fintech – The Lightning Netwo...  \n"
     ]
    },
    {
     "name": "stderr",
     "output_type": "stream",
     "text": [
      "C:\\Users\\Abhimanyu\\AppData\\Local\\Temp\\ipykernel_14116\\741335625.py:4: FutureWarning: The frame.append method is deprecated and will be removed from pandas in a future version. Use pandas.concat instead.\n",
      "  final_data=final_data.append(p1)\n"
     ]
    },
    {
     "name": "stdout",
     "output_type": "stream",
     "text": [
      "                                            Link_url                   Header  \\\n",
      "0  https://insights.blackcoffer.com/blockchain-fo...  Blockchain for Payments   \n",
      "\n",
      "                                                Text  \n",
      "0  \\n Reconciling with the financial realities of...  \n"
     ]
    },
    {
     "name": "stderr",
     "output_type": "stream",
     "text": [
      "C:\\Users\\Abhimanyu\\AppData\\Local\\Temp\\ipykernel_14116\\741335625.py:4: FutureWarning: The frame.append method is deprecated and will be removed from pandas in a future version. Use pandas.concat instead.\n",
      "  final_data=final_data.append(p1)\n"
     ]
    },
    {
     "name": "stdout",
     "output_type": "stream",
     "text": [
      "                                            Link_url                   Header  \\\n",
      "0  https://insights.blackcoffer.com/the-future-of...  The future of Investing   \n",
      "\n",
      "                                                Text  \n",
      "0  \\n What Is an Investment? \\n An investment is ...  \n"
     ]
    },
    {
     "name": "stderr",
     "output_type": "stream",
     "text": [
      "C:\\Users\\Abhimanyu\\AppData\\Local\\Temp\\ipykernel_14116\\741335625.py:4: FutureWarning: The frame.append method is deprecated and will be removed from pandas in a future version. Use pandas.concat instead.\n",
      "  final_data=final_data.append(p1)\n"
     ]
    },
    {
     "name": "stdout",
     "output_type": "stream",
     "text": [
      "                                            Link_url  \\\n",
      "0  https://insights.blackcoffer.com/big-data-anal...   \n",
      "\n",
      "                             Header  \\\n",
      "0  Big Data Analytics in Healthcare   \n",
      "\n",
      "                                                Text  \n",
      "0  \\n Quality and affordable healthcare is a visi...  \n"
     ]
    },
    {
     "name": "stderr",
     "output_type": "stream",
     "text": [
      "C:\\Users\\Abhimanyu\\AppData\\Local\\Temp\\ipykernel_14116\\741335625.py:4: FutureWarning: The frame.append method is deprecated and will be removed from pandas in a future version. Use pandas.concat instead.\n",
      "  final_data=final_data.append(p1)\n"
     ]
    },
    {
     "name": "stdout",
     "output_type": "stream",
     "text": [
      "                                            Link_url  \\\n",
      "0  https://insights.blackcoffer.com/business-anal...   \n",
      "\n",
      "                                          Header  \\\n",
      "0  Business Analytics In The Healthcare Industry   \n",
      "\n",
      "                                                Text  \n",
      "0  \\n Analytics is a statistical scientific proce...  \n"
     ]
    },
    {
     "name": "stderr",
     "output_type": "stream",
     "text": [
      "C:\\Users\\Abhimanyu\\AppData\\Local\\Temp\\ipykernel_14116\\741335625.py:4: FutureWarning: The frame.append method is deprecated and will be removed from pandas in a future version. Use pandas.concat instead.\n",
      "  final_data=final_data.append(p1)\n"
     ]
    },
    {
     "name": "stdout",
     "output_type": "stream",
     "text": [
      "                                            Link_url  \\\n",
      "0  https://insights.blackcoffer.com/challenges-an...   \n",
      "\n",
      "                                              Header  \\\n",
      "0  Challenges and Opportunities of Big Data in He...   \n",
      "\n",
      "                                                Text  \n",
      "0  \\n Big Data \\n To begin with I shall first lik...  \n"
     ]
    },
    {
     "name": "stderr",
     "output_type": "stream",
     "text": [
      "C:\\Users\\Abhimanyu\\AppData\\Local\\Temp\\ipykernel_14116\\741335625.py:4: FutureWarning: The frame.append method is deprecated and will be removed from pandas in a future version. Use pandas.concat instead.\n",
      "  final_data=final_data.append(p1)\n"
     ]
    }
   ],
   "source": [
    "for i in s_link:\n",
    "    p1=data_link(i)\n",
    "    print(p1)\n",
    "    final_data=final_data.append(p1)"
   ]
  },
  {
   "cell_type": "code",
   "execution_count": 8,
   "id": "d65a79f4",
   "metadata": {},
   "outputs": [],
   "source": [
    "final_data=final_data.reset_index()"
   ]
  },
  {
   "cell_type": "code",
   "execution_count": 9,
   "id": "5fa2f85e",
   "metadata": {},
   "outputs": [],
   "source": [
    "final_data=final_data.drop('index',axis=1)"
   ]
  },
  {
   "cell_type": "code",
   "execution_count": 10,
   "id": "56c748e4",
   "metadata": {},
   "outputs": [
    {
     "data": {
      "text/html": [
       "<div>\n",
       "<style scoped>\n",
       "    .dataframe tbody tr th:only-of-type {\n",
       "        vertical-align: middle;\n",
       "    }\n",
       "\n",
       "    .dataframe tbody tr th {\n",
       "        vertical-align: top;\n",
       "    }\n",
       "\n",
       "    .dataframe thead th {\n",
       "        text-align: right;\n",
       "    }\n",
       "</style>\n",
       "<table border=\"1\" class=\"dataframe\">\n",
       "  <thead>\n",
       "    <tr style=\"text-align: right;\">\n",
       "      <th></th>\n",
       "      <th>Link_url</th>\n",
       "      <th>Header</th>\n",
       "      <th>Text</th>\n",
       "    </tr>\n",
       "  </thead>\n",
       "  <tbody>\n",
       "    <tr>\n",
       "      <th>0</th>\n",
       "      <td>https://insights.blackcoffer.com/ai-in-healthc...</td>\n",
       "      <td>AI in healthcare to Improve Patient Outcomes</td>\n",
       "      <td>\\n Introduction \\n “If anything kills over 10 ...</td>\n",
       "    </tr>\n",
       "    <tr>\n",
       "      <th>1</th>\n",
       "      <td>https://insights.blackcoffer.com/what-if-the-c...</td>\n",
       "      <td>What if the Creation is Taking Over the Creator?</td>\n",
       "      <td>\\n Human minds, a fascination in itself carryi...</td>\n",
       "    </tr>\n",
       "    <tr>\n",
       "      <th>2</th>\n",
       "      <td>https://insights.blackcoffer.com/what-jobs-wil...</td>\n",
       "      <td>What Jobs Will Robots Take From Humans in The ...</td>\n",
       "      <td>\\n Introduction \\n AI is rapidly evolving in t...</td>\n",
       "    </tr>\n",
       "    <tr>\n",
       "      <th>3</th>\n",
       "      <td>https://insights.blackcoffer.com/will-machine-...</td>\n",
       "      <td>Will Machine Replace The Human in the Future o...</td>\n",
       "      <td>\\n “Anything that could give rise to smarter-t...</td>\n",
       "    </tr>\n",
       "    <tr>\n",
       "      <th>4</th>\n",
       "      <td>https://insights.blackcoffer.com/will-ai-repla...</td>\n",
       "      <td>Will AI Replace Us or Work With Us?</td>\n",
       "      <td>\\n “Machine intelligence is the last invention...</td>\n",
       "    </tr>\n",
       "  </tbody>\n",
       "</table>\n",
       "</div>"
      ],
      "text/plain": [
       "                                            Link_url  \\\n",
       "0  https://insights.blackcoffer.com/ai-in-healthc...   \n",
       "1  https://insights.blackcoffer.com/what-if-the-c...   \n",
       "2  https://insights.blackcoffer.com/what-jobs-wil...   \n",
       "3  https://insights.blackcoffer.com/will-machine-...   \n",
       "4  https://insights.blackcoffer.com/will-ai-repla...   \n",
       "\n",
       "                                              Header  \\\n",
       "0       AI in healthcare to Improve Patient Outcomes   \n",
       "1   What if the Creation is Taking Over the Creator?   \n",
       "2  What Jobs Will Robots Take From Humans in The ...   \n",
       "3  Will Machine Replace The Human in the Future o...   \n",
       "4                Will AI Replace Us or Work With Us?   \n",
       "\n",
       "                                                Text  \n",
       "0  \\n Introduction \\n “If anything kills over 10 ...  \n",
       "1  \\n Human minds, a fascination in itself carryi...  \n",
       "2  \\n Introduction \\n AI is rapidly evolving in t...  \n",
       "3  \\n “Anything that could give rise to smarter-t...  \n",
       "4  \\n “Machine intelligence is the last invention...  "
      ]
     },
     "execution_count": 10,
     "metadata": {},
     "output_type": "execute_result"
    }
   ],
   "source": [
    "final_data.head()"
   ]
  },
  {
   "cell_type": "code",
   "execution_count": 11,
   "id": "14fa0fac",
   "metadata": {},
   "outputs": [],
   "source": [
    "final_data.to_excel(r'Test.xlsx')"
   ]
  },
  {
   "cell_type": "code",
   "execution_count": 46,
   "id": "7e110597",
   "metadata": {},
   "outputs": [],
   "source": [
    "final_data1=final_data.copy()"
   ]
  },
  {
   "cell_type": "code",
   "execution_count": 47,
   "id": "94c8b632",
   "metadata": {},
   "outputs": [],
   "source": [
    "import re"
   ]
  },
  {
   "cell_type": "code",
   "execution_count": 48,
   "id": "c1395805",
   "metadata": {},
   "outputs": [],
   "source": [
    "x=re.sub(r'\\n', '', final_data['Text'][1])"
   ]
  },
  {
   "cell_type": "code",
   "execution_count": 49,
   "id": "2c5cad2b",
   "metadata": {},
   "outputs": [
    {
     "data": {
      "text/html": [
       "<div>\n",
       "<style scoped>\n",
       "    .dataframe tbody tr th:only-of-type {\n",
       "        vertical-align: middle;\n",
       "    }\n",
       "\n",
       "    .dataframe tbody tr th {\n",
       "        vertical-align: top;\n",
       "    }\n",
       "\n",
       "    .dataframe thead th {\n",
       "        text-align: right;\n",
       "    }\n",
       "</style>\n",
       "<table border=\"1\" class=\"dataframe\">\n",
       "  <thead>\n",
       "    <tr style=\"text-align: right;\">\n",
       "      <th></th>\n",
       "      <th>Link_url</th>\n",
       "      <th>Header</th>\n",
       "      <th>Text</th>\n",
       "    </tr>\n",
       "  </thead>\n",
       "  <tbody>\n",
       "    <tr>\n",
       "      <th>0</th>\n",
       "      <td>https://insights.blackcoffer.com/ai-in-healthc...</td>\n",
       "      <td>AI in healthcare to Improve Patient Outcomes</td>\n",
       "      <td>Introduction  “If anything kills over 10 mill...</td>\n",
       "    </tr>\n",
       "    <tr>\n",
       "      <th>1</th>\n",
       "      <td>https://insights.blackcoffer.com/what-if-the-c...</td>\n",
       "      <td>What if the Creation is Taking Over the Creator?</td>\n",
       "      <td>Human minds, a fascination in itself carrying...</td>\n",
       "    </tr>\n",
       "    <tr>\n",
       "      <th>2</th>\n",
       "      <td>https://insights.blackcoffer.com/what-jobs-wil...</td>\n",
       "      <td>What Jobs Will Robots Take From Humans in The ...</td>\n",
       "      <td>Introduction  AI is rapidly evolving in the e...</td>\n",
       "    </tr>\n",
       "    <tr>\n",
       "      <th>3</th>\n",
       "      <td>https://insights.blackcoffer.com/will-machine-...</td>\n",
       "      <td>Will Machine Replace The Human in the Future o...</td>\n",
       "      <td>“Anything that could give rise to smarter-tha...</td>\n",
       "    </tr>\n",
       "    <tr>\n",
       "      <th>4</th>\n",
       "      <td>https://insights.blackcoffer.com/will-ai-repla...</td>\n",
       "      <td>Will AI Replace Us or Work With Us?</td>\n",
       "      <td>“Machine intelligence is the last invention t...</td>\n",
       "    </tr>\n",
       "  </tbody>\n",
       "</table>\n",
       "</div>"
      ],
      "text/plain": [
       "                                            Link_url  \\\n",
       "0  https://insights.blackcoffer.com/ai-in-healthc...   \n",
       "1  https://insights.blackcoffer.com/what-if-the-c...   \n",
       "2  https://insights.blackcoffer.com/what-jobs-wil...   \n",
       "3  https://insights.blackcoffer.com/will-machine-...   \n",
       "4  https://insights.blackcoffer.com/will-ai-repla...   \n",
       "\n",
       "                                              Header  \\\n",
       "0       AI in healthcare to Improve Patient Outcomes   \n",
       "1   What if the Creation is Taking Over the Creator?   \n",
       "2  What Jobs Will Robots Take From Humans in The ...   \n",
       "3  Will Machine Replace The Human in the Future o...   \n",
       "4                Will AI Replace Us or Work With Us?   \n",
       "\n",
       "                                                Text  \n",
       "0   Introduction  “If anything kills over 10 mill...  \n",
       "1   Human minds, a fascination in itself carrying...  \n",
       "2   Introduction  AI is rapidly evolving in the e...  \n",
       "3   “Anything that could give rise to smarter-tha...  \n",
       "4   “Machine intelligence is the last invention t...  "
      ]
     },
     "execution_count": 49,
     "metadata": {},
     "output_type": "execute_result"
    }
   ],
   "source": [
    "for i in range(0,len(final_data1)):\n",
    "    final_data1['Text'][i]=re.sub(r'(\\n|\\xa0)', '',final_data1['Text'][i])\n",
    "final_data1.head()"
   ]
  },
  {
   "cell_type": "code",
   "execution_count": 51,
   "id": "77c6c980",
   "metadata": {},
   "outputs": [],
   "source": [
    "final_data1.to_excel(r'Test1.xlsx')"
   ]
  }
 ],
 "metadata": {
  "celltoolbar": "Raw Cell Format",
  "kernelspec": {
   "display_name": "Python 3 (ipykernel)",
   "language": "python",
   "name": "python3"
  },
  "language_info": {
   "codemirror_mode": {
    "name": "ipython",
    "version": 3
   },
   "file_extension": ".py",
   "mimetype": "text/x-python",
   "name": "python",
   "nbconvert_exporter": "python",
   "pygments_lexer": "ipython3",
   "version": "3.9.12"
  }
 },
 "nbformat": 4,
 "nbformat_minor": 5
}
